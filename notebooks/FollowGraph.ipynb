{
 "cells": [
  {
   "cell_type": "markdown",
   "metadata": {},
   "source": [
    "# Convert follow to graph¶\n",
    "\n",
    "https://docs.rapids.ai/api/cugraph/stable/api.html#cugraph.structure.convert_matrix.from_cudf_edgelist\n",
    "\n",
    "cnx.structure.convert_matrix.from_cudf_edgelist\n",
    "\n",
    "cnx.community.subgraph_extraction.subgraph\n",
    "\n",
    "cnx.community.spectral_clustering.???\n",
    "\n",
    "cnx.community.triangle_count.triangles\n",
    "\n",
    "cnx.community.kernighan_lin.kernighan_lin_bisection\n"
   ]
  },
  {
   "cell_type": "code",
   "execution_count": 62,
   "metadata": {},
   "outputs": [],
   "source": [
    "#!echo Available GPUs: $CUDA_VISIBLE_DEVICES"
   ]
  },
  {
   "cell_type": "code",
   "execution_count": 2,
   "metadata": {},
   "outputs": [],
   "source": [
    "import os\n",
    "\n",
    "import pandas as pd\n",
    "pd.options.mode.chained_assignment = None\n",
    "import networkx as nx\n",
    "\n",
    "### CUDA RAPIDS\n",
    "import cugraph as cnx\n",
    "import cudf\n",
    "import cupy as cp\n",
    "\n",
    "path = '../proj/data/'"
   ]
  },
  {
   "cell_type": "code",
   "execution_count": 3,
   "metadata": {},
   "outputs": [
    {
     "name": "stdout",
     "output_type": "stream",
     "text": [
      "17485 86691\n"
     ]
    }
   ],
   "source": [
    "follow = pd.read_csv((path + 'Following_Ignoring_Relationships_01052019_31052019.csv'), sep=';')\n",
    "t1 = follow[follow.ID_CommunityConnectionType == 1]#.iloc[:,:2] #\n",
    "t2 = follow[follow.ID_CommunityConnectionType == 2]#.iloc[:,:2] #\n",
    "t2.loc[:,'ID_CommunityConnectionType'] = t2.loc[:,'ID_CommunityConnectionType'].replace(2, -1)\n",
    "\n",
    "Fg = nx.DiGraph()\n",
    "Fg.add_nodes_from(t1.iloc[:,0].unique())\n",
    "Fg.add_nodes_from(t1.iloc[:,1].unique())\n",
    "Fg.add_nodes_from(t2.iloc[:,0].unique())\n",
    "Fg.add_nodes_from(t2.iloc[:,1].unique())\n",
    "\n",
    "e1 = list(zip(t1.ID_CommunityIdentity, t1.ID_CommunityIdentityConnectedTo))\n",
    "e2 = list(zip(t2.ID_CommunityIdentity, t2.ID_CommunityIdentityConnectedTo))\n",
    "\n",
    "### Weighted > t1.ID_CommunityConnectionType\n",
    "Fg.add_edges_from(e1, w=1)\n",
    "Fg.add_edges_from(e2, w=-1)\n",
    "print(len(Fg.nodes()), len(Fg.edges()) )"
   ]
  },
  {
   "cell_type": "markdown",
   "metadata": {},
   "source": []
  },
  {
   "cell_type": "code",
   "execution_count": null,
   "metadata": {},
   "outputs": [],
   "source": [
    "ignore = []\n",
    "for _, (s,t) in enumerate(zip(t2.ID_CommunityIdentity, t2.ID_CommunityIdentityConnectedTo)):\n",
    "    if (s in A3di.keys()) & (t in A3di.keys()):\n",
    "        #print(s,t)\n",
    "        ignore.append((s,t))\n",
    "    #print(_)\n",
    "len(ignore)"
   ]
  },
  {
   "cell_type": "code",
   "execution_count": null,
   "metadata": {},
   "outputs": [],
   "source": []
  },
  {
   "cell_type": "markdown",
   "metadata": {},
   "source": [
    "## Between centrality"
   ]
  },
  {
   "cell_type": "code",
   "execution_count": 11,
   "metadata": {},
   "outputs": [],
   "source": [
    "#between = cnx.centrality.betweenness_centrality(Fg)"
   ]
  },
  {
   "cell_type": "markdown",
   "metadata": {},
   "source": [
    "## Louvain"
   ]
  },
  {
   "cell_type": "code",
   "execution_count": 4,
   "metadata": {},
   "outputs": [
    {
     "name": "stdout",
     "output_type": "stream",
     "text": [
      "0.41152438521385193 = modularity_score\n"
     ]
    },
    {
     "data": {
      "text/plain": [
       "1130"
      ]
     },
     "execution_count": 4,
     "metadata": {},
     "output_type": "execute_result"
    }
   ],
   "source": [
    "\n",
    "## convert to undirected for some algos\n",
    "udFg = Fg.to_undirected()\n",
    "\n",
    "louvain = cnx.community.louvain(udFg)\n",
    "print(louvain[1], '= modularity_score') \n",
    "len(set(louvain[0].values()))"
   ]
  },
  {
   "cell_type": "markdown",
   "metadata": {},
   "source": [
    "## spectral Balanced Cut Clustering"
   ]
  },
  {
   "cell_type": "code",
   "execution_count": 79,
   "metadata": {},
   "outputs": [],
   "source": [
    "specC = cnx.spectralBalancedCutClustering(udFg, 5)\n",
    "#specC.get(1)tis"
   ]
  },
  {
   "cell_type": "code",
   "execution_count": 50,
   "metadata": {},
   "outputs": [],
   "source": [
    "#specC"
   ]
  },
  {
   "cell_type": "code",
   "execution_count": 56,
   "metadata": {},
   "outputs": [],
   "source": [
    "#cnx.community.spectral_clustering.analyzeClustering_edge_cut(udFg, 5, specC) ##, 'vertex', 'cluster')\n",
    "## specC should be DF with cols"
   ]
  },
  {
   "cell_type": "code",
   "execution_count": 4,
   "metadata": {},
   "outputs": [],
   "source": [
    "#[ e for e in Fg.edges_iter () ]"
   ]
  },
  {
   "cell_type": "code",
   "execution_count": null,
   "metadata": {},
   "outputs": [],
   "source": []
  },
  {
   "cell_type": "markdown",
   "metadata": {},
   "source": [
    "## resistance_distance"
   ]
  },
  {
   "cell_type": "code",
   "execution_count": 77,
   "metadata": {},
   "outputs": [],
   "source": [
    "#nx.algorithms.distance_measures.resistance_distance(Fg)"
   ]
  },
  {
   "cell_type": "markdown",
   "metadata": {},
   "source": [
    "## katz centrality\n",
    "top-20"
   ]
  },
  {
   "cell_type": "code",
   "execution_count": 76,
   "metadata": {},
   "outputs": [
    {
     "data": {
      "text/plain": [
       "[(524430, 0.13207079261472443),\n",
       " (529517, 0.1240546014552086),\n",
       " (167449, 0.10872699367352559),\n",
       " (29262, 0.10535807206007657),\n",
       " (157302, 0.1033338073561847),\n",
       " (538574, 0.08821299051965677),\n",
       " (578557, 0.08787622322220892),\n",
       " (309385, 0.08761107270187267),\n",
       " (654383, 0.08704175254055774),\n",
       " (207112, 0.08595183583519314),\n",
       " (606270, 0.08490994350853526),\n",
       " (687729, 0.08282162298098292),\n",
       " (536203, 0.08260217491449354),\n",
       " (130491, 0.08083588430091924),\n",
       " (551403, 0.08065022650631884),\n",
       " (527635, 0.08056980733433014),\n",
       " (170447, 0.08047408398695834),\n",
       " (579004, 0.08035697187826843),\n",
       " (655677, 0.07897687425775635),\n",
       " (519605, 0.07888398980327685)]"
      ]
     },
     "execution_count": 76,
     "metadata": {},
     "output_type": "execute_result"
    }
   ],
   "source": [
    "sorted(cnx.centrality.katz_centrality(Fg).items(), key=lambda x: x[1], reverse=True)[0:20]"
   ]
  }
 ],
 "metadata": {
  "kernelspec": {
   "display_name": "Python 3",
   "language": "python",
   "name": "python3"
  },
  "language_info": {
   "codemirror_mode": {
    "name": "ipython",
    "version": 3
   },
   "file_extension": ".py",
   "mimetype": "text/x-python",
   "name": "python",
   "nbconvert_exporter": "python",
   "pygments_lexer": "ipython3",
   "version": "3.7.6"
  }
 },
 "nbformat": 4,
 "nbformat_minor": 4
}
