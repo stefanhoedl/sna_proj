{
 "cells": [
  {
   "cell_type": "markdown",
   "metadata": {},
   "source": [
    "# Social Network Analysis - Python Handson"
   ]
  },
  {
   "cell_type": "code",
   "execution_count": 6,
   "metadata": {
    "ExecuteTime": {
     "end_time": "2020-12-06T11:53:07.752829Z",
     "start_time": "2020-12-06T11:53:07.749953Z"
    }
   },
   "outputs": [],
   "source": [
    "import numpy as np\n",
    "from networkx import nx\n",
    "\n",
    "import pandas as pd\n",
    "import datetime\n",
    "import matplotlib.pyplot as plt\n",
    "\n",
    "### CUDA RAPIDS\n",
    "# import cugraph as cnx\n",
    "# import cudf\n",
    "# import cupy as cp"
   ]
  },
  {
   "cell_type": "markdown",
   "metadata": {},
   "source": [
    "## The Data\n",
    "\n",
    "The data set is provided by Der Standard, one of the top Austrian newspapers.\n",
    "In the online Standard people can post comments below articles and up/down vote comments.\n",
    "The data set used in this handson and further in the project part of the course will consider a sample of those articles, comments, and votes. "
   ]
  },
  {
   "cell_type": "code",
   "execution_count": 4,
   "metadata": {
    "ExecuteTime": {
     "end_time": "2020-12-06T11:53:09.966895Z",
     "start_time": "2020-12-06T11:53:07.757363Z"
    }
   },
   "outputs": [
    {
     "data": {
      "text/plain": [
       "(739094, 7)"
      ]
     },
     "execution_count": 4,
     "metadata": {},
     "output_type": "execute_result"
    }
   ],
   "source": [
    "date_cols = [\"PostingCreatedAt\",\"ArticlePublishingDate\"]\n",
    "\n",
    "df1 = pd.read_csv('../data/Postings_01052019_15052019.csv',usecols=[\"ID_CommunityIdentity\", \"ID_Posting\", \"PostingCreatedAt\", \"ArticleTitle\",'ArticleChannel' ,\"ArticleRessortName\",\"ArticlePublishingDate\"],parse_dates=date_cols, sep=';')\n",
    "df2 = pd.read_csv('../data/Postings_16052019_31052019.csv', usecols=[\"ID_CommunityIdentity\", \"ID_Posting\",\"PostingCreatedAt\", \"ArticleTitle\",'ArticleChannel' ,\"ArticleRessortName\",\"ArticlePublishingDate\"], parse_dates=date_cols,sep=';')\n",
    "df=df1.append(df2, ignore_index=True)\n",
    "df.shape"
   ]
  },
  {
   "cell_type": "code",
   "execution_count": 5,
   "metadata": {
    "ExecuteTime": {
     "end_time": "2020-12-06T11:53:10.126443Z",
     "start_time": "2020-12-06T11:53:09.968211Z"
    }
   },
   "outputs": [
    {
     "data": {
      "text/html": [
       "<div>\n",
       "<style scoped>\n",
       "    .dataframe tbody tr th:only-of-type {\n",
       "        vertical-align: middle;\n",
       "    }\n",
       "\n",
       "    .dataframe tbody tr th {\n",
       "        vertical-align: top;\n",
       "    }\n",
       "\n",
       "    .dataframe thead th {\n",
       "        text-align: right;\n",
       "    }\n",
       "</style>\n",
       "<table border=\"1\" class=\"dataframe\">\n",
       "  <thead>\n",
       "    <tr style=\"text-align: right;\">\n",
       "      <th></th>\n",
       "      <th>ID_Posting</th>\n",
       "      <th>ID_CommunityIdentity</th>\n",
       "      <th>PostingCreatedAt</th>\n",
       "      <th>ArticlePublishingDate</th>\n",
       "      <th>ArticleTitle</th>\n",
       "      <th>ArticleChannel</th>\n",
       "      <th>ArticleRessortName</th>\n",
       "    </tr>\n",
       "  </thead>\n",
       "  <tbody>\n",
       "    <tr>\n",
       "      <th>0</th>\n",
       "      <td>1041073586</td>\n",
       "      <td>671476</td>\n",
       "      <td>2019-05-01 18:21:15.127</td>\n",
       "      <td>2019-05-01 10:28:57.490</td>\n",
       "      <td>1. Mai in Wien: SPÖ fordert von Strache Rücktritt</td>\n",
       "      <td>Inland</td>\n",
       "      <td>Parteien</td>\n",
       "    </tr>\n",
       "    <tr>\n",
       "      <th>1</th>\n",
       "      <td>1041073839</td>\n",
       "      <td>566938</td>\n",
       "      <td>2019-05-01 18:28:22.040</td>\n",
       "      <td>2019-05-01 10:28:57.490</td>\n",
       "      <td>1. Mai in Wien: SPÖ fordert von Strache Rücktritt</td>\n",
       "      <td>Inland</td>\n",
       "      <td>Parteien</td>\n",
       "    </tr>\n",
       "    <tr>\n",
       "      <th>2</th>\n",
       "      <td>1041073872</td>\n",
       "      <td>669286</td>\n",
       "      <td>2019-05-01 18:29:05.533</td>\n",
       "      <td>2019-05-01 10:28:57.490</td>\n",
       "      <td>1. Mai in Wien: SPÖ fordert von Strache Rücktritt</td>\n",
       "      <td>Inland</td>\n",
       "      <td>Parteien</td>\n",
       "    </tr>\n",
       "    <tr>\n",
       "      <th>3</th>\n",
       "      <td>1041080734</td>\n",
       "      <td>671476</td>\n",
       "      <td>2019-05-01 22:37:56.010</td>\n",
       "      <td>2019-05-01 10:28:57.490</td>\n",
       "      <td>1. Mai in Wien: SPÖ fordert von Strache Rücktritt</td>\n",
       "      <td>Inland</td>\n",
       "      <td>Parteien</td>\n",
       "    </tr>\n",
       "    <tr>\n",
       "      <th>4</th>\n",
       "      <td>1041080828</td>\n",
       "      <td>671476</td>\n",
       "      <td>2019-05-01 22:42:06.310</td>\n",
       "      <td>2019-05-01 10:28:57.490</td>\n",
       "      <td>1. Mai in Wien: SPÖ fordert von Strache Rücktritt</td>\n",
       "      <td>Inland</td>\n",
       "      <td>Parteien</td>\n",
       "    </tr>\n",
       "  </tbody>\n",
       "</table>\n",
       "</div>"
      ],
      "text/plain": [
       "   ID_Posting  ID_CommunityIdentity        PostingCreatedAt  \\\n",
       "0  1041073586                671476 2019-05-01 18:21:15.127   \n",
       "1  1041073839                566938 2019-05-01 18:28:22.040   \n",
       "2  1041073872                669286 2019-05-01 18:29:05.533   \n",
       "3  1041080734                671476 2019-05-01 22:37:56.010   \n",
       "4  1041080828                671476 2019-05-01 22:42:06.310   \n",
       "\n",
       "    ArticlePublishingDate                                       ArticleTitle  \\\n",
       "0 2019-05-01 10:28:57.490  1. Mai in Wien: SPÖ fordert von Strache Rücktritt   \n",
       "1 2019-05-01 10:28:57.490  1. Mai in Wien: SPÖ fordert von Strache Rücktritt   \n",
       "2 2019-05-01 10:28:57.490  1. Mai in Wien: SPÖ fordert von Strache Rücktritt   \n",
       "3 2019-05-01 10:28:57.490  1. Mai in Wien: SPÖ fordert von Strache Rücktritt   \n",
       "4 2019-05-01 10:28:57.490  1. Mai in Wien: SPÖ fordert von Strache Rücktritt   \n",
       "\n",
       "  ArticleChannel ArticleRessortName  \n",
       "0         Inland           Parteien  \n",
       "1         Inland           Parteien  \n",
       "2         Inland           Parteien  \n",
       "3         Inland           Parteien  \n",
       "4         Inland           Parteien  "
      ]
     },
     "execution_count": 5,
     "metadata": {},
     "output_type": "execute_result"
    }
   ],
   "source": [
    "df = df[(df.ArticleChannel == \"Inland\") & (~df.ArticleRessortName.isin([ \"Pensionen\", \"Eurofighter\",\"Off-Topic\"]))]\n",
    "df.head()"
   ]
  },
  {
   "cell_type": "code",
   "execution_count": 6,
   "metadata": {
    "ExecuteTime": {
     "end_time": "2020-12-06T11:53:10.130071Z",
     "start_time": "2020-12-06T11:53:10.127679Z"
    }
   },
   "outputs": [
    {
     "data": {
      "text/plain": [
       "(185509, 7)"
      ]
     },
     "execution_count": 6,
     "metadata": {},
     "output_type": "execute_result"
    }
   ],
   "source": [
    "df.shape"
   ]
  },
  {
   "cell_type": "markdown",
   "metadata": {},
   "source": [
    "There are different entities in the data set: \n",
    "* Users - identified by *ID_CommunityIdentity* (or *UserCommunityName*)\n",
    "* Postings - identified by *ID_Posting*\n",
    "* Articles - identified by *ID_Article*\n",
    "\n",
    "Thus, there are different possibilities to build networks based on voting and posting data. \n",
    "We will concentrate now on the ***votes-to-network***. \n"
   ]
  },
  {
   "cell_type": "code",
   "execution_count": 7,
   "metadata": {
    "ExecuteTime": {
     "end_time": "2020-12-06T11:53:12.520973Z",
     "start_time": "2020-12-06T11:53:10.131280Z"
    }
   },
   "outputs": [
    {
     "data": {
      "text/html": [
       "<div>\n",
       "<style scoped>\n",
       "    .dataframe tbody tr th:only-of-type {\n",
       "        vertical-align: middle;\n",
       "    }\n",
       "\n",
       "    .dataframe tbody tr th {\n",
       "        vertical-align: top;\n",
       "    }\n",
       "\n",
       "    .dataframe thead th {\n",
       "        text-align: right;\n",
       "    }\n",
       "</style>\n",
       "<table border=\"1\" class=\"dataframe\">\n",
       "  <thead>\n",
       "    <tr style=\"text-align: right;\">\n",
       "      <th></th>\n",
       "      <th>ID_CommunityIdentity</th>\n",
       "      <th>ID_Posting</th>\n",
       "      <th>VoteNegative</th>\n",
       "      <th>VotePositive</th>\n",
       "      <th>VoteCreatedAt</th>\n",
       "      <th>UserCommunityName</th>\n",
       "      <th>UserGender</th>\n",
       "      <th>UserCreatedAt</th>\n",
       "    </tr>\n",
       "  </thead>\n",
       "  <tbody>\n",
       "    <tr>\n",
       "      <th>0</th>\n",
       "      <td>675862</td>\n",
       "      <td>1041076570</td>\n",
       "      <td>1</td>\n",
       "      <td>0</td>\n",
       "      <td>2019-05-06 16:47:46.883</td>\n",
       "      <td>Heckscheibenwischer</td>\n",
       "      <td>m</td>\n",
       "      <td>2018-06-26 06:04:30.513</td>\n",
       "    </tr>\n",
       "    <tr>\n",
       "      <th>1</th>\n",
       "      <td>689023</td>\n",
       "      <td>1041076570</td>\n",
       "      <td>1</td>\n",
       "      <td>0</td>\n",
       "      <td>2019-05-01 22:19:06.240</td>\n",
       "      <td>Heinz Fettleber</td>\n",
       "      <td>NaN</td>\n",
       "      <td>2019-03-08 21:23:11.463</td>\n",
       "    </tr>\n",
       "    <tr>\n",
       "      <th>2</th>\n",
       "      <td>24810</td>\n",
       "      <td>1041076745</td>\n",
       "      <td>0</td>\n",
       "      <td>1</td>\n",
       "      <td>2019-05-01 23:54:54.600</td>\n",
       "      <td>Bruce Campbell</td>\n",
       "      <td>m</td>\n",
       "      <td>2011-01-12 16:50:40.597</td>\n",
       "    </tr>\n",
       "    <tr>\n",
       "      <th>3</th>\n",
       "      <td>673781</td>\n",
       "      <td>1041076745</td>\n",
       "      <td>0</td>\n",
       "      <td>1</td>\n",
       "      <td>2019-05-01 20:59:29.910</td>\n",
       "      <td>Erdäpfelsack</td>\n",
       "      <td>NaN</td>\n",
       "      <td>2018-05-29 07:13:49.350</td>\n",
       "    </tr>\n",
       "    <tr>\n",
       "      <th>4</th>\n",
       "      <td>24810</td>\n",
       "      <td>1041076831</td>\n",
       "      <td>0</td>\n",
       "      <td>1</td>\n",
       "      <td>2019-05-01 23:51:42.730</td>\n",
       "      <td>Bruce Campbell</td>\n",
       "      <td>m</td>\n",
       "      <td>2011-01-12 16:50:40.597</td>\n",
       "    </tr>\n",
       "  </tbody>\n",
       "</table>\n",
       "</div>"
      ],
      "text/plain": [
       "   ID_CommunityIdentity  ID_Posting  VoteNegative  VotePositive  \\\n",
       "0                675862  1041076570             1             0   \n",
       "1                689023  1041076570             1             0   \n",
       "2                 24810  1041076745             0             1   \n",
       "3                673781  1041076745             0             1   \n",
       "4                 24810  1041076831             0             1   \n",
       "\n",
       "            VoteCreatedAt    UserCommunityName UserGender  \\\n",
       "0 2019-05-06 16:47:46.883  Heckscheibenwischer          m   \n",
       "1 2019-05-01 22:19:06.240      Heinz Fettleber        NaN   \n",
       "2 2019-05-01 23:54:54.600       Bruce Campbell          m   \n",
       "3 2019-05-01 20:59:29.910         Erdäpfelsack        NaN   \n",
       "4 2019-05-01 23:51:42.730       Bruce Campbell          m   \n",
       "\n",
       "            UserCreatedAt  \n",
       "0 2018-06-26 06:04:30.513  \n",
       "1 2019-03-08 21:23:11.463  \n",
       "2 2011-01-12 16:50:40.597  \n",
       "3 2018-05-29 07:13:49.350  \n",
       "4 2011-01-12 16:50:40.597  "
      ]
     },
     "execution_count": 7,
     "metadata": {},
     "output_type": "execute_result"
    }
   ],
   "source": [
    "date_cols = [\"VoteCreatedAt\",\"UserCreatedAt\"]\n",
    "votes1 = pd.read_csv('../data/Votes_01052019_15052019.csv',parse_dates=date_cols, sep=';')\n",
    "votes2 = pd.read_csv('../data/Votes_16052019_31052019.csv', parse_dates=date_cols,sep=';')\n",
    "votes=votes1.append(votes2, ignore_index=True)\n",
    "votes.head()"
   ]
  },
  {
   "cell_type": "code",
   "execution_count": 9,
   "metadata": {
    "ExecuteTime": {
     "end_time": "2020-12-06T11:53:13.243948Z",
     "start_time": "2020-12-06T11:53:12.522497Z"
    }
   },
   "outputs": [
    {
     "data": {
      "text/plain": [
       "(1046528, 14)"
      ]
     },
     "execution_count": 9,
     "metadata": {},
     "output_type": "execute_result"
    }
   ],
   "source": [
    "PostAndVotes=pd.merge(df,votes,on=\"ID_Posting\")\n",
    "PostAndVotes.head()\n",
    "PostAndVotes.shape"
   ]
  },
  {
   "cell_type": "code",
   "execution_count": 10,
   "metadata": {
    "ExecuteTime": {
     "end_time": "2020-12-06T11:53:23.836234Z",
     "start_time": "2020-12-06T11:53:13.244956Z"
    }
   },
   "outputs": [
    {
     "data": {
      "text/html": [
       "<div>\n",
       "<style scoped>\n",
       "    .dataframe tbody tr th:only-of-type {\n",
       "        vertical-align: middle;\n",
       "    }\n",
       "\n",
       "    .dataframe tbody tr th {\n",
       "        vertical-align: top;\n",
       "    }\n",
       "\n",
       "    .dataframe thead th {\n",
       "        text-align: right;\n",
       "    }\n",
       "</style>\n",
       "<table border=\"1\" class=\"dataframe\">\n",
       "  <thead>\n",
       "    <tr style=\"text-align: right;\">\n",
       "      <th></th>\n",
       "      <th>ID_Posting</th>\n",
       "      <th>ID_CommunityIdentity_x</th>\n",
       "      <th>PostingCreatedAt</th>\n",
       "      <th>ArticlePublishingDate</th>\n",
       "      <th>ArticleTitle</th>\n",
       "      <th>ArticleChannel</th>\n",
       "      <th>ArticleRessortName</th>\n",
       "      <th>ID_CommunityIdentity_y</th>\n",
       "      <th>VoteNegative</th>\n",
       "      <th>VotePositive</th>\n",
       "      <th>VoteCreatedAt</th>\n",
       "      <th>UserCommunityName</th>\n",
       "      <th>UserGender</th>\n",
       "      <th>UserCreatedAt</th>\n",
       "    </tr>\n",
       "  </thead>\n",
       "  <tbody>\n",
       "    <tr>\n",
       "      <th>288026</th>\n",
       "      <td>1041556100</td>\n",
       "      <td>690843</td>\n",
       "      <td>2019-05-17 11:55:52.037</td>\n",
       "      <td>2019-05-17 06:00:00</td>\n",
       "      <td>Neos-Kandidatin Gamon: \"Was ÖVP und FPÖ machen...</td>\n",
       "      <td>Inland</td>\n",
       "      <td>Neos</td>\n",
       "      <td>566359</td>\n",
       "      <td>0</td>\n",
       "      <td>1</td>\n",
       "      <td>2019-05-17 12:58:25.500</td>\n",
       "      <td>RudiSemmel</td>\n",
       "      <td>m</td>\n",
       "      <td>2015-08-18 00:14:31.843</td>\n",
       "    </tr>\n",
       "    <tr>\n",
       "      <th>288027</th>\n",
       "      <td>1041556100</td>\n",
       "      <td>690843</td>\n",
       "      <td>2019-05-17 11:55:52.037</td>\n",
       "      <td>2019-05-17 06:00:00</td>\n",
       "      <td>Neos-Kandidatin Gamon: \"Was ÖVP und FPÖ machen...</td>\n",
       "      <td>Inland</td>\n",
       "      <td>Neos</td>\n",
       "      <td>509478</td>\n",
       "      <td>0</td>\n",
       "      <td>1</td>\n",
       "      <td>2019-05-17 12:59:20.530</td>\n",
       "      <td>Seidelbast</td>\n",
       "      <td>w</td>\n",
       "      <td>2013-02-28 09:52:08.860</td>\n",
       "    </tr>\n",
       "    <tr>\n",
       "      <th>288028</th>\n",
       "      <td>1041556100</td>\n",
       "      <td>690843</td>\n",
       "      <td>2019-05-17 11:55:52.037</td>\n",
       "      <td>2019-05-17 06:00:00</td>\n",
       "      <td>Neos-Kandidatin Gamon: \"Was ÖVP und FPÖ machen...</td>\n",
       "      <td>Inland</td>\n",
       "      <td>Neos</td>\n",
       "      <td>580319</td>\n",
       "      <td>1</td>\n",
       "      <td>0</td>\n",
       "      <td>2019-05-17 11:58:30.570</td>\n",
       "      <td>stay calm</td>\n",
       "      <td>m</td>\n",
       "      <td>2016-04-09 21:20:45.280</td>\n",
       "    </tr>\n",
       "    <tr>\n",
       "      <th>288029</th>\n",
       "      <td>1041556100</td>\n",
       "      <td>690843</td>\n",
       "      <td>2019-05-17 11:55:52.037</td>\n",
       "      <td>2019-05-17 06:00:00</td>\n",
       "      <td>Neos-Kandidatin Gamon: \"Was ÖVP und FPÖ machen...</td>\n",
       "      <td>Inland</td>\n",
       "      <td>Neos</td>\n",
       "      <td>505803</td>\n",
       "      <td>0</td>\n",
       "      <td>1</td>\n",
       "      <td>2019-05-17 12:13:32.723</td>\n",
       "      <td>The_new_Dude</td>\n",
       "      <td>m</td>\n",
       "      <td>2004-07-06 14:10:25.217</td>\n",
       "    </tr>\n",
       "    <tr>\n",
       "      <th>288030</th>\n",
       "      <td>1041556100</td>\n",
       "      <td>690843</td>\n",
       "      <td>2019-05-17 11:55:52.037</td>\n",
       "      <td>2019-05-17 06:00:00</td>\n",
       "      <td>Neos-Kandidatin Gamon: \"Was ÖVP und FPÖ machen...</td>\n",
       "      <td>Inland</td>\n",
       "      <td>Neos</td>\n",
       "      <td>170067</td>\n",
       "      <td>0</td>\n",
       "      <td>1</td>\n",
       "      <td>2019-05-17 12:41:33.613</td>\n",
       "      <td>Peter Williams</td>\n",
       "      <td>m</td>\n",
       "      <td>2001-04-29 13:51:13.000</td>\n",
       "    </tr>\n",
       "  </tbody>\n",
       "</table>\n",
       "</div>"
      ],
      "text/plain": [
       "        ID_Posting  ID_CommunityIdentity_x        PostingCreatedAt  \\\n",
       "288026  1041556100                  690843 2019-05-17 11:55:52.037   \n",
       "288027  1041556100                  690843 2019-05-17 11:55:52.037   \n",
       "288028  1041556100                  690843 2019-05-17 11:55:52.037   \n",
       "288029  1041556100                  690843 2019-05-17 11:55:52.037   \n",
       "288030  1041556100                  690843 2019-05-17 11:55:52.037   \n",
       "\n",
       "       ArticlePublishingDate  \\\n",
       "288026   2019-05-17 06:00:00   \n",
       "288027   2019-05-17 06:00:00   \n",
       "288028   2019-05-17 06:00:00   \n",
       "288029   2019-05-17 06:00:00   \n",
       "288030   2019-05-17 06:00:00   \n",
       "\n",
       "                                             ArticleTitle ArticleChannel  \\\n",
       "288026  Neos-Kandidatin Gamon: \"Was ÖVP und FPÖ machen...         Inland   \n",
       "288027  Neos-Kandidatin Gamon: \"Was ÖVP und FPÖ machen...         Inland   \n",
       "288028  Neos-Kandidatin Gamon: \"Was ÖVP und FPÖ machen...         Inland   \n",
       "288029  Neos-Kandidatin Gamon: \"Was ÖVP und FPÖ machen...         Inland   \n",
       "288030  Neos-Kandidatin Gamon: \"Was ÖVP und FPÖ machen...         Inland   \n",
       "\n",
       "       ArticleRessortName  ID_CommunityIdentity_y  VoteNegative  VotePositive  \\\n",
       "288026               Neos                  566359             0             1   \n",
       "288027               Neos                  509478             0             1   \n",
       "288028               Neos                  580319             1             0   \n",
       "288029               Neos                  505803             0             1   \n",
       "288030               Neos                  170067             0             1   \n",
       "\n",
       "                 VoteCreatedAt UserCommunityName UserGender  \\\n",
       "288026 2019-05-17 12:58:25.500        RudiSemmel          m   \n",
       "288027 2019-05-17 12:59:20.530        Seidelbast          w   \n",
       "288028 2019-05-17 11:58:30.570         stay calm          m   \n",
       "288029 2019-05-17 12:13:32.723      The_new_Dude          m   \n",
       "288030 2019-05-17 12:41:33.613    Peter Williams          m   \n",
       "\n",
       "                 UserCreatedAt  \n",
       "288026 2015-08-18 00:14:31.843  \n",
       "288027 2013-02-28 09:52:08.860  \n",
       "288028 2016-04-09 21:20:45.280  \n",
       "288029 2004-07-06 14:10:25.217  \n",
       "288030 2001-04-29 13:51:13.000  "
      ]
     },
     "execution_count": 10,
     "metadata": {},
     "output_type": "execute_result"
    }
   ],
   "source": [
    "PostAndVotes_less=PostAndVotes.groupby('ID_Posting').filter(lambda x : len(x)>5).copy()\n",
    "split_date= datetime.datetime(2019,5,17)\n",
    "\n",
    "PostAndVotes_before = PostAndVotes_less.loc[PostAndVotes_less['PostingCreatedAt'] <= split_date]\n",
    "PostAndVotes_after = PostAndVotes_less.loc[PostAndVotes_less['PostingCreatedAt'] > split_date]\n",
    "PostAndVotes_after.head()"
   ]
  },
  {
   "cell_type": "code",
   "execution_count": 11,
   "metadata": {
    "ExecuteTime": {
     "end_time": "2020-12-06T11:53:23.839897Z",
     "start_time": "2020-12-06T11:53:23.837305Z"
    }
   },
   "outputs": [
    {
     "name": "stdout",
     "output_type": "stream",
     "text": [
      "Before shape: (280769, 14)\n",
      "After shape: (579639, 14)\n"
     ]
    }
   ],
   "source": [
    "print('Before shape: ' + str(PostAndVotes_before.shape))\n",
    "print('After shape: ' + str(PostAndVotes_after.shape))\n"
   ]
  },
  {
   "cell_type": "markdown",
   "metadata": {},
   "source": [
    "A line in the table above shows that a user (i.e., *ID_CommunityIdentiy*) posted a comment. Every post has its own uniqe identifier (i.e., *ID_Posting*). If a user votes for a posting then the vote is identified by the *ID_Posting* the voting was for, the *ID_CommunityIdentiy* from the voter. Next, it is also recorded, if the vote was negative or positive. This informtion is saved in  *VoteNegative* and *VotePositive* respectively.  \n",
    "\n",
    "We want to bring the structure above into following format: \n",
    "* source, i.e., the voting user\n",
    "* target, i.e., the post creator\n",
    "* weight, i.e., how often the source voted for the target (postive and negative)\n",
    "\n",
    "In other words, we are aiming for a *weighted edge-list*."
   ]
  },
  {
   "cell_type": "markdown",
   "metadata": {},
   "source": [
    "### Edges"
   ]
  },
  {
   "cell_type": "code",
   "execution_count": 12,
   "metadata": {
    "ExecuteTime": {
     "end_time": "2020-12-06T11:54:53.801418Z",
     "start_time": "2020-12-06T11:53:23.841445Z"
    }
   },
   "outputs": [],
   "source": [
    "edgeListBefore= PostAndVotes_before.groupby([\"ID_CommunityIdentity_x\",\"ID_CommunityIdentity_y\"]).agg({\"VoteNegative\": [(\"votes_neg_count\",\"sum\")], \"VotePositive\":[(\"votes_pos_count\",\"sum\")]})\n",
    "edgeListAfter= PostAndVotes_after.groupby([\"ID_CommunityIdentity_x\",\"ID_CommunityIdentity_y\"]).agg({\"VoteNegative\": [(\"votes_neg_count\",\"sum\")], \"VotePositive\":[(\"votes_pos_count\",\"sum\")]})\n"
   ]
  },
  {
   "cell_type": "code",
   "execution_count": 13,
   "metadata": {
    "ExecuteTime": {
     "end_time": "2020-12-06T12:00:01.581542Z",
     "start_time": "2020-12-06T11:54:53.803549Z"
    }
   },
   "outputs": [],
   "source": [
    "edgeListBefore.columns=edgeListBefore.columns.droplevel()\n",
    "edgeListAfter.columns=edgeListAfter.columns.droplevel()"
   ]
  },
  {
   "cell_type": "code",
   "execution_count": null,
   "metadata": {
    "ExecuteTime": {
     "end_time": "2020-12-06T12:00:01.584191Z",
     "start_time": "2020-12-06T11:53:07.787Z"
    }
   },
   "outputs": [],
   "source": [
    "edgeListBefore.loc[edgeListBefore[\"votes_neg_count\"]>10]\n"
   ]
  },
  {
   "cell_type": "markdown",
   "metadata": {
    "ExecuteTime": {
     "end_time": "2020-12-06T12:00:01.585584Z",
     "start_time": "2020-12-06T11:53:07.788Z"
    }
   },
   "source": [
    "### ATTENTION: \n",
    "PLEASE DEFINE YOUR WEIGHT BELOW "
   ]
  },
  {
   "cell_type": "code",
   "execution_count": 15,
   "metadata": {
    "ExecuteTime": {
     "end_time": "2020-12-06T12:00:01.586613Z",
     "start_time": "2020-12-06T11:53:07.790Z"
    }
   },
   "outputs": [],
   "source": [
    "## original\n",
    "# edgeListBefore[\"weight\"]=edgeListBefore[\"votes_pos_count\"]-edgeListBefore[\"votes_neg_count\"]\n",
    "# edgeListAfter[\"weight\"]=edgeListAfter[\"votes_pos_count\"]-edgeListAfter[\"votes_neg_count\"]"
   ]
  },
  {
   "cell_type": "code",
   "execution_count": 21,
   "metadata": {},
   "outputs": [],
   "source": [
    "## v1\n",
    "edgeListBefore[\"weight\"]= (1+edgeListBefore[\"votes_pos_count\"])/(1+edgeListBefore[\"votes_neg_count\"])\n",
    "edgeListAfter[\"weight\"]=(1+edgeListAfter[\"votes_pos_count\"])/(1+edgeListAfter[\"votes_neg_count\"])"
   ]
  },
  {
   "cell_type": "code",
   "execution_count": 22,
   "metadata": {
    "ExecuteTime": {
     "end_time": "2020-12-06T12:00:01.587611Z",
     "start_time": "2020-12-06T11:53:07.795Z"
    }
   },
   "outputs": [],
   "source": [
    "edgeListBefore.rename_axis(['source', 'target'], inplace=True)\n",
    "edgeListAfter.rename_axis(['source', 'target'], inplace=True)"
   ]
  },
  {
   "cell_type": "code",
   "execution_count": 23,
   "metadata": {
    "ExecuteTime": {
     "end_time": "2020-12-06T12:00:01.588257Z",
     "start_time": "2020-12-06T11:53:07.798Z"
    }
   },
   "outputs": [],
   "source": [
    "edgesBefore = edgeListBefore.reset_index()\n",
    "edgesAfter = edgeListAfter.reset_index()"
   ]
  },
  {
   "cell_type": "code",
   "execution_count": 28,
   "metadata": {
    "ExecuteTime": {
     "end_time": "2020-12-06T12:00:01.588890Z",
     "start_time": "2020-12-06T11:53:07.800Z"
    }
   },
   "outputs": [],
   "source": [
    "#list(edgesAfter.weight.tail(100))"
   ]
  },
  {
   "cell_type": "code",
   "execution_count": 30,
   "metadata": {},
   "outputs": [],
   "source": [
    "edgesBefore.to_csv(\"../data/votes_to_comments_before.csv\", index=False)\n",
    "edgesAfter.to_csv(\"../data/votes_to_comments_after.csv\", index=False)"
   ]
  },
  {
   "cell_type": "markdown",
   "metadata": {},
   "source": [
    "### Graph\n",
    "\n",
    "We use the *networkx* library.\n",
    "Since we build a *votes-to-network* we have *source* nodes and *target* nodes. \n",
    "Thus, the network is directed.\n",
    "Therefore, we use *nx.Digraph()*"
   ]
  },
  {
   "cell_type": "code",
   "execution_count": 26,
   "metadata": {},
   "outputs": [],
   "source": [
    "edgesBefore = pd.read_csv(\"../data/votes_to_comments_before.csv\")\n",
    "edgesAfter = pd.read_csv(\"../data/votes_to_comments_after.csv\")"
   ]
  },
  {
   "cell_type": "code",
   "execution_count": 27,
   "metadata": {},
   "outputs": [],
   "source": [
    "G = nx.from_pandas_edgelist(edgesAfter, \n",
    "                            source='source', \n",
    "                            target='target', \n",
    "                            edge_attr = 'weight',\n",
    "                            create_using=nx.DiGraph())"
   ]
  },
  {
   "cell_type": "code",
   "execution_count": 62,
   "metadata": {},
   "outputs": [],
   "source": [
    "# ## or CUDA (CuGraph variant)\n",
    "# edgesBefore = cudf.read_csv(\"../data/votes_to_comments_before.csv\")\n",
    "# edgesAfter = cudf.read_csv(\"../data/votes_to_comments_after.csv\")\n",
    "\n",
    "# G = cnx.DiGraph()\n",
    "# G = cnx.from_cudf_edgelist(edgesAfter, \n",
    "#                             source ='source', \n",
    "#                             destination ='target',\n",
    "#                             edge_attr = 'weight')"
   ]
  },
  {
   "cell_type": "code",
   "execution_count": null,
   "metadata": {},
   "outputs": [],
   "source": [
    "fig = plt.figure(figsize=(50,50))\n",
    "nx.draw_spring(G)\n",
    "plt.show()"
   ]
  },
  {
   "cell_type": "markdown",
   "metadata": {},
   "source": [
    "### Basic Stats"
   ]
  },
  {
   "cell_type": "code",
   "execution_count": 30,
   "metadata": {},
   "outputs": [
    {
     "name": "stdout",
     "output_type": "stream",
     "text": [
      "Name: \n",
      "Type: DiGraph\n",
      "Number of nodes: 19311\n",
      "Number of edges: 516939\n",
      "Average in degree:  26.7691\n",
      "Average out degree:  26.7691\n"
     ]
    }
   ],
   "source": [
    "print(nx.info(G))"
   ]
  },
  {
   "cell_type": "code",
   "execution_count": 36,
   "metadata": {},
   "outputs": [
    {
     "data": {
      "text/plain": [
       "857"
      ]
     },
     "execution_count": 36,
     "metadata": {},
     "output_type": "execute_result"
    }
   ],
   "source": [
    "edges = G.edges()\n",
    "edges\n",
    "# number of edges with weight 1\n",
    "len(edgesBefore[edgesBefore.weight == 1])"
   ]
  },
  {
   "cell_type": "code",
   "execution_count": null,
   "metadata": {},
   "outputs": [],
   "source": [
    "# max weight of edges\n",
    "edges.weight.max()"
   ]
  },
  {
   "cell_type": "code",
   "execution_count": null,
   "metadata": {},
   "outputs": [],
   "source": [
    "# average weight \n",
    "edges.weight.mean()"
   ]
  },
  {
   "cell_type": "markdown",
   "metadata": {},
   "source": [
    "### Network density and path lengths"
   ]
  },
  {
   "cell_type": "code",
   "execution_count": 37,
   "metadata": {},
   "outputs": [
    {
     "data": {
      "text/plain": [
       "0.0013862841594108118"
      ]
     },
     "execution_count": 37,
     "metadata": {},
     "output_type": "execute_result"
    }
   ],
   "source": [
    "# network density\n",
    "nx.density(G)"
   ]
  },
  {
   "cell_type": "code",
   "execution_count": 39,
   "metadata": {},
   "outputs": [
    {
     "data": {
      "text/plain": [
       "1.2015565061527573"
      ]
     },
     "execution_count": 39,
     "metadata": {},
     "output_type": "execute_result"
    }
   ],
   "source": [
    "# Average distance (i.e. average shortest path length)\n",
    "nx.average_shortest_path_length(G)"
   ]
  },
  {
   "cell_type": "markdown",
   "metadata": {},
   "source": [
    "The method average_shortest_path_length throws an exception if the underlying Graph is disconnected. Thus, one can calculate the average of all finite distances (i.e., existing shortest pathes) nx.single_source_shortest_path_length(G, N) delivers the length of all shortest pathes beginning from node N. Furthermore, the first shortest path is always the distance to itself (i.e., zero), which as to be filtered later on."
   ]
  },
  {
   "cell_type": "code",
   "execution_count": 40,
   "metadata": {},
   "outputs": [],
   "source": [
    "# compute all distances\n",
    "distances = [list(nx.single_source_shortest_path_length(G,N).values()) for N in G.nodes]\n",
    "# Flatten the distances list! Currently list of lists of single node distances\n",
    "# and filter out the unnecessary zeroes\n",
    "distances = [distance for single_distances in distances for distance in single_distances if distance > 0]"
   ]
  },
  {
   "cell_type": "code",
   "execution_count": 41,
   "metadata": {},
   "outputs": [
    {
     "data": {
      "text/plain": [
       "3.1636479960640003"
      ]
     },
     "execution_count": 41,
     "metadata": {},
     "output_type": "execute_result"
    }
   ],
   "source": [
    "# average\n",
    "np.mean(distances)"
   ]
  },
  {
   "cell_type": "markdown",
   "metadata": {},
   "source": [
    "To consider the weight one can use e.g. nx.single_source_dijkstra_path_length() But watch out, what does weight in our case mean?"
   ]
  },
  {
   "cell_type": "code",
   "execution_count": 42,
   "metadata": {},
   "outputs": [
    {
     "data": {
      "text/plain": [
       "8"
      ]
     },
     "execution_count": 42,
     "metadata": {},
     "output_type": "execute_result"
    }
   ],
   "source": [
    "# Diameter (i.e, longest shortest path)\n",
    "np.max(distances)"
   ]
  },
  {
   "cell_type": "markdown",
   "metadata": {},
   "source": [
    "### Connected components"
   ]
  },
  {
   "cell_type": "markdown",
   "metadata": {},
   "source": [
    "G.subgraph(c) for c in nx.weakly_connected_components(G) delivers a Generator,which can be used to iterate over all weakly connected compontents (deliverd as a subgraph for further analysis)"
   ]
  },
  {
   "cell_type": "code",
   "execution_count": 43,
   "metadata": {},
   "outputs": [],
   "source": [
    "wccs = [c for c in (G.subgraph(c) for c in nx.weakly_connected_components(G))]"
   ]
  },
  {
   "cell_type": "code",
   "execution_count": 44,
   "metadata": {},
   "outputs": [
    {
     "data": {
      "text/plain": [
       "1"
      ]
     },
     "execution_count": 44,
     "metadata": {},
     "output_type": "execute_result"
    }
   ],
   "source": [
    "# number of wccs\n",
    "len(wccs)"
   ]
  },
  {
   "cell_type": "code",
   "execution_count": 45,
   "metadata": {},
   "outputs": [
    {
     "data": {
      "text/plain": [
       "1"
      ]
     },
     "execution_count": 45,
     "metadata": {},
     "output_type": "execute_result"
    }
   ],
   "source": [
    "# number of wccs\n",
    "nx.number_weakly_connected_components(G)"
   ]
  },
  {
   "cell_type": "markdown",
   "metadata": {},
   "source": [
    "Sizes of the wccs:\n",
    "\n",
    "nx.number_of_nodes() delivers the number of nodes of a graph. This can be done for all weakly connected components wcc in the weakly connected component list. Furthermore, with set() one can get the uniqe values."
   ]
  },
  {
   "cell_type": "code",
   "execution_count": 46,
   "metadata": {},
   "outputs": [
    {
     "data": {
      "text/plain": [
       "{19311}"
      ]
     },
     "execution_count": 46,
     "metadata": {},
     "output_type": "execute_result"
    }
   ],
   "source": [
    "set([nx.number_of_nodes(wcc) for wcc in wccs])"
   ]
  },
  {
   "cell_type": "markdown",
   "metadata": {},
   "source": [
    "If not the uniqe values are in focus, but the for example how often a wcc with n Nodes appear, one can use Counter().most_common() as follwing"
   ]
  },
  {
   "cell_type": "code",
   "execution_count": 47,
   "metadata": {},
   "outputs": [
    {
     "data": {
      "text/plain": [
       "[(19311, 1)]"
      ]
     },
     "execution_count": 47,
     "metadata": {},
     "output_type": "execute_result"
    }
   ],
   "source": [
    "from collections import Counter\n",
    "Counter([nx.number_of_nodes(wcc) for wcc in wccs]).most_common()"
   ]
  },
  {
   "cell_type": "markdown",
   "metadata": {},
   "source": [
    "Strongly connected components:"
   ]
  },
  {
   "cell_type": "code",
   "execution_count": 48,
   "metadata": {},
   "outputs": [
    {
     "data": {
      "text/plain": [
       "[(1, 12557), (6754, 1)]"
      ]
     },
     "execution_count": 48,
     "metadata": {},
     "output_type": "execute_result"
    }
   ],
   "source": [
    "sccs = [c for c in (G.subgraph(c) for c in nx.strongly_connected_components(G))]\n",
    "Counter([nx.number_of_nodes(scc) for scc in sccs]).most_common()"
   ]
  },
  {
   "cell_type": "markdown",
   "metadata": {},
   "source": [
    "### Clustering Coefficients"
   ]
  },
  {
   "cell_type": "markdown",
   "metadata": {},
   "source": [
    "**Local**\n",
    "\n",
    "nx.clustering(G) returns back a dictionary with clustering coefficients of each node.\n",
    "with the combination of sorted() and itemgetter() one can get a sorted list of (ID,clustering coeff.) tuples."
   ]
  },
  {
   "cell_type": "code",
   "execution_count": 49,
   "metadata": {},
   "outputs": [
    {
     "data": {
      "text/plain": [
       "[(130264, 1.0), (317646, 1.0), (632768, 1.0), (574288, 1.0), (676509, 1.0)]"
      ]
     },
     "execution_count": 49,
     "metadata": {},
     "output_type": "execute_result"
    }
   ],
   "source": [
    "from operator import itemgetter\n",
    "sorted(nx.clustering(G).items(), key=itemgetter(1), reverse=True)[:5]"
   ]
  },
  {
   "cell_type": "markdown",
   "metadata": {},
   "source": [
    "\"*the clustering coefficient quantifies how close the neighbours of i are to being a clique.*\" (lecture slides) i.e., how concentrated the neighbours of a nodes is."
   ]
  },
  {
   "cell_type": "markdown",
   "metadata": {},
   "source": [
    "**Global**\n",
    "\n",
    "The global clustering coefficient can have alternative definitions:\n",
    "\n",
    "1) as the average of the local clustering coefficients"
   ]
  },
  {
   "cell_type": "code",
   "execution_count": 50,
   "metadata": {},
   "outputs": [
    {
     "data": {
      "text/plain": [
       "0.06559233425493029"
      ]
     },
     "execution_count": 50,
     "metadata": {},
     "output_type": "execute_result"
    }
   ],
   "source": [
    "nx.average_clustering(G)"
   ]
  },
  {
   "cell_type": "markdown",
   "metadata": {},
   "source": [
    "Note, that there might be differences if you use other tools (e.g., Gephi, Igraph, etc.).\n",
    "So, why does networkx delivers a different average clustering coefficiet?\n",
    "In order to find an answer, take a look at the nx.clustering() documentation (since nx.average_clustering is just averaging over the individual values). https://networkx.github.io/documentation/stable/reference/algorithms/generated/networkx.algorithms.cluster.clustering.html\n",
    "It says, that clustering coefficients for nodes with degrees lower than 2 is set to ZERO.\n",
    "\n",
    "Thus, there is no right or wrong way of implementation, but you have to be aware what you are using.\n",
    "\n",
    "2) as the ratio of triangles and connected triples"
   ]
  },
  {
   "cell_type": "code",
   "execution_count": 51,
   "metadata": {},
   "outputs": [
    {
     "data": {
      "text/plain": [
       "0.030381907301514577"
      ]
     },
     "execution_count": 51,
     "metadata": {},
     "output_type": "execute_result"
    }
   ],
   "source": [
    "nx.transitivity(G)"
   ]
  },
  {
   "cell_type": "markdown",
   "metadata": {},
   "source": [
    "### Centrality Indices"
   ]
  },
  {
   "cell_type": "markdown",
   "metadata": {},
   "source": [
    "**In-Degree**\n",
    "\n",
    "[nx.in_degree_centrality(G)](https://networkx.github.io/documentation/stable/reference/algorithms/generated/networkx.algorithms.centrality.in_degree_centrality.html#networkx.algorithms.centrality.in_degree_centrality) delivers in-degree-centrality of each node in a graph G.\n",
    "Note, that the centralities are normalized.\n",
    "\n",
    "\n",
    "With a combination of sorted() and itemgetter() one can again get a sorted list of (Node, centrality) tuples.\n",
    "Where one can just take the first 5 for reporting.\n",
    "Note, reverse=True means in decreasing order\n",
    "\n"
   ]
  },
  {
   "cell_type": "code",
   "execution_count": 52,
   "metadata": {},
   "outputs": [
    {
     "data": {
      "text/plain": [
       "[(13770, 0.10719834282755049),\n",
       " (91348, 0.07804246504401864),\n",
       " (691990, 0.058933195235629204),\n",
       " (499631, 0.05033661315380632),\n",
       " (586763, 0.04873122734334542)]"
      ]
     },
     "execution_count": 52,
     "metadata": {},
     "output_type": "execute_result"
    }
   ],
   "source": [
    "sorted(nx.in_degree_centrality(G).items(), key=itemgetter(1), reverse=True)[:5]"
   ]
  },
  {
   "cell_type": "markdown",
   "metadata": {},
   "source": [
    "User *588542* is replied the most."
   ]
  },
  {
   "cell_type": "markdown",
   "metadata": {},
   "source": [
    "**Out-Degree**"
   ]
  },
  {
   "cell_type": "code",
   "execution_count": 53,
   "metadata": {},
   "outputs": [
    {
     "data": {
      "text/plain": [
       "[(55475, 0.13821853961677888),\n",
       " (688289, 0.08342827550491973),\n",
       " (519657, 0.0825479026411186),\n",
       " (692018, 0.07540134645261522),\n",
       " (204447, 0.06607975142413257)]"
      ]
     },
     "execution_count": 53,
     "metadata": {},
     "output_type": "execute_result"
    }
   ],
   "source": [
    "sorted(nx.out_degree_centrality(G).items(), key=itemgetter(1), reverse=True)[:5]"
   ]
  },
  {
   "cell_type": "markdown",
   "metadata": {},
   "source": [
    "User *588542* also replies the most"
   ]
  },
  {
   "cell_type": "markdown",
   "metadata": {},
   "source": [
    "**Eigenvector-Centrality**\n",
    "\n",
    "Eigenvector centrality computes the centrality for a node based on the centrality of its neighbors. The eigenvector centrality for node i is the i-th element of the vector 𝑥 defined by the equation\n",
    "\n",
    "𝐴𝑥=𝜆𝑥\n",
    "\n",
    "where 𝐴 is the adjacency matrix of the graph G with eigenvalue 𝜆. By virtue of the Perron–Frobenius theorem, there is a unique solution 𝑥, all of whose entries are positive, if 𝜆 is the largest eigenvalue of the adjacency matrix 𝐴\n",
    "A."
   ]
  },
  {
   "cell_type": "code",
   "execution_count": 54,
   "metadata": {},
   "outputs": [
    {
     "data": {
      "text/plain": [
       "[(13770, 0.17154734158027612),\n",
       " (91348, 0.14210789770185256),\n",
       " (691990, 0.10521084588501653),\n",
       " (586763, 0.09673589889007222),\n",
       " (526088, 0.09599874654467412)]"
      ]
     },
     "execution_count": 54,
     "metadata": {},
     "output_type": "execute_result"
    }
   ],
   "source": [
    "sorted(nx.eigenvector_centrality(G).items(), key=itemgetter(1), reverse=True)[:5]"
   ]
  },
  {
   "cell_type": "markdown",
   "metadata": {},
   "source": [
    "**In-closeness centrality**\n",
    "\n",
    "Closeness centrality of a node u is the reciprocal of the average shortest path distance to u over all n-1 reachable nodes.\n",
    "\n",
    "𝐶(𝑢)= (𝑛−1)/∑𝑑(𝑣,𝑢)\n",
    "\n",
    "where d(v, u) is the shortest-path distance between v and u, and n is the number of nodes that can reach u. Notice that the closeness distance function computes the incoming distance to u for directed graphs. To use outward distance, act on G.reverse()."
   ]
  },
  {
   "cell_type": "code",
   "execution_count": 55,
   "metadata": {},
   "outputs": [
    {
     "data": {
      "text/plain": [
       "[(13770, 0.23534927320118174),\n",
       " (91348, 0.2246666410887312),\n",
       " (691990, 0.21575385562111715),\n",
       " (586763, 0.21161370077918698),\n",
       " (499631, 0.2114801484277959)]"
      ]
     },
     "execution_count": 55,
     "metadata": {},
     "output_type": "execute_result"
    }
   ],
   "source": [
    "sorted(nx.closeness_centrality(G).items(), key=itemgetter(1), reverse=True)[:5]"
   ]
  },
  {
   "cell_type": "markdown",
   "metadata": {},
   "source": [
    "**Out-closeness centrality**"
   ]
  },
  {
   "cell_type": "code",
   "execution_count": null,
   "metadata": {},
   "outputs": [],
   "source": [
    "sorted(nx.closeness_centrality(G.reverse()).items(), key=itemgetter(1), reverse=True)[:5]"
   ]
  },
  {
   "cell_type": "markdown",
   "metadata": {},
   "source": [
    "**Betweeness centrality**\n",
    "\n",
    "Betweenness centrality of a node 𝑣 is the sum of the fraction of all-pairs shortest paths that pass through 𝑣\n",
    "\n",
    "𝑐𝐵(𝑣)=∑𝜎(𝑠,𝑡|𝑣)/𝜎(𝑠,𝑡)\n",
    "\n",
    "where, 𝜎(𝑠,𝑡) is the number of shortest (𝑠,𝑡)-paths, and 𝜎(𝑠,𝑡|𝑣) is the number of those paths passing through some node 𝑣 other than 𝑠,𝑡 .\n",
    "\n",
    "\n",
    "Using k=100 nodes to estimate the betweeness centrality."
   ]
  },
  {
   "cell_type": "code",
   "execution_count": null,
   "metadata": {},
   "outputs": [],
   "source": [
    "sorted(nx.betweenness_centrality(G, k=100).items(), key=itemgetter(1), reverse=True)[:5]"
   ]
  },
  {
   "cell_type": "markdown",
   "metadata": {},
   "source": [
    "### Link Analysis"
   ]
  },
  {
   "cell_type": "markdown",
   "metadata": {},
   "source": [
    "**Hubs and Authorities**"
   ]
  },
  {
   "cell_type": "code",
   "execution_count": 56,
   "metadata": {},
   "outputs": [],
   "source": [
    "hubs_auth = nx.hits(G)"
   ]
  },
  {
   "cell_type": "code",
   "execution_count": 57,
   "metadata": {},
   "outputs": [
    {
     "data": {
      "text/plain": [
       "[(519657, 0.007530638908006095),\n",
       " (204447, 0.003626318108992372),\n",
       " (692018, 0.0034952475278469393),\n",
       " (688289, 0.003486458185833507),\n",
       " (501035, 0.002635002262536037)]"
      ]
     },
     "execution_count": 57,
     "metadata": {},
     "output_type": "execute_result"
    }
   ],
   "source": [
    "# hub scores\n",
    "sorted(hubs_auth[0].items(), key=itemgetter(1), reverse=True)[:5]"
   ]
  },
  {
   "cell_type": "code",
   "execution_count": 58,
   "metadata": {},
   "outputs": [
    {
     "data": {
      "text/plain": [
       "[(13770, 0.005023856325453032),\n",
       " (91348, 0.0037148012038317976),\n",
       " (691990, 0.002411994874554427),\n",
       " (526088, 0.0022889160067541482),\n",
       " (568564, 0.0021508604775567026)]"
      ]
     },
     "execution_count": 58,
     "metadata": {},
     "output_type": "execute_result"
    }
   ],
   "source": [
    "# authority scores\n",
    "sorted(hubs_auth[1].items(), key=itemgetter(1), reverse=True)[:5]"
   ]
  },
  {
   "cell_type": "markdown",
   "metadata": {},
   "source": [
    "**Page Rank**"
   ]
  },
  {
   "cell_type": "code",
   "execution_count": 59,
   "metadata": {},
   "outputs": [
    {
     "data": {
      "text/plain": [
       "[(13770, 0.002786153322149273),\n",
       " (91348, 0.0019966283709411253),\n",
       " (691990, 0.0014991130837114835),\n",
       " (586763, 0.0011135276467596075),\n",
       " (499631, 0.0011099405727271906)]"
      ]
     },
     "execution_count": 59,
     "metadata": {},
     "output_type": "execute_result"
    }
   ],
   "source": [
    "sorted(nx.pagerank(G).items(), key=itemgetter(1), reverse=True)[:5]"
   ]
  },
  {
   "cell_type": "markdown",
   "metadata": {},
   "source": [
    "### To explore\n",
    "networkx.algorithms.triads.triadic_census"
   ]
  },
  {
   "cell_type": "code",
   "execution_count": 61,
   "metadata": {},
   "outputs": [
    {
     "data": {
      "text/plain": [
       "{'003': 1190347414874,\n",
       " '012': 9413301276,\n",
       " '102': 141763297,\n",
       " '021D': 53832931,\n",
       " '021U': 39848218,\n",
       " '021C': 33555437,\n",
       " '111D': 2941611,\n",
       " '111U': 3445452,\n",
       " '030T': 2740732,\n",
       " '030C': 95262,\n",
       " '201': 132212,\n",
       " '120D': 157641,\n",
       " '120U': 198516,\n",
       " '120C': 107199,\n",
       " '210': 41076,\n",
       " '300': 2881}"
      ]
     },
     "execution_count": 61,
     "metadata": {},
     "output_type": "execute_result"
    }
   ],
   "source": [
    "nx.algorithms.triads.triadic_census(G)"
   ]
  },
  {
   "cell_type": "code",
   "execution_count": null,
   "metadata": {},
   "outputs": [],
   "source": []
  }
 ],
 "metadata": {
  "kernelspec": {
   "display_name": "Python 3",
   "language": "python",
   "name": "python3"
  },
  "language_info": {
   "codemirror_mode": {
    "name": "ipython",
    "version": 3
   },
   "file_extension": ".py",
   "mimetype": "text/x-python",
   "name": "python",
   "nbconvert_exporter": "python",
   "pygments_lexer": "ipython3",
   "version": "3.8.6"
  },
  "toc": {
   "base_numbering": 1,
   "nav_menu": {},
   "number_sections": false,
   "sideBar": true,
   "skip_h1_title": false,
   "title_cell": "Table of Contents",
   "title_sidebar": "Contents",
   "toc_cell": false,
   "toc_position": {},
   "toc_section_display": true,
   "toc_window_display": false
  }
 },
 "nbformat": 4,
 "nbformat_minor": 4
}
