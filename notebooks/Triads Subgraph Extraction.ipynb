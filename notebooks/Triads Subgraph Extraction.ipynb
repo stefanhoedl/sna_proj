{
 "cells": [
  {
   "cell_type": "markdown",
   "metadata": {},
   "source": [
    "# Social Network Analysis - Python Handson"
   ]
  },
  {
   "cell_type": "code",
   "execution_count": 2,
   "metadata": {
    "ExecuteTime": {
     "end_time": "2020-12-19T13:21:24.129789Z",
     "start_time": "2020-12-19T13:21:23.735948Z"
    }
   },
   "outputs": [],
   "source": [
    "import numpy as np\n",
    "from networkx import nx\n",
    "\n",
    "import pandas as pd\n",
    "import datetime\n",
    "import matplotlib.pyplot as plt\n",
    "from numpy.linalg import matrix_power\n"
   ]
  },
  {
   "cell_type": "markdown",
   "metadata": {},
   "source": [
    "## The Data\n",
    "\n",
    "The data set is provided by Der Standard, one of the top Austrian newspapers.\n",
    "In the online Standard people can post comments below articles and up/down vote comments.\n",
    "The data set used in this handson and further in the project part of the course will consider a sample of those articles, comments, and votes. "
   ]
  },
  {
   "cell_type": "code",
   "execution_count": 23,
   "metadata": {
    "ExecuteTime": {
     "end_time": "2020-12-14T11:32:02.443857Z",
     "start_time": "2020-12-14T11:32:00.350633Z"
    }
   },
   "outputs": [
    {
     "data": {
      "text/plain": [
       "(739094, 7)"
      ]
     },
     "execution_count": 23,
     "metadata": {},
     "output_type": "execute_result"
    }
   ],
   "source": [
    "date_cols = [\"PostingCreatedAt\",\"ArticlePublishingDate\"]\n",
    "\n",
    "df1 = pd.read_csv('../data/Postings_01052019_15052019.csv',usecols=[\"ID_CommunityIdentity\", \"ID_Posting\", \"PostingCreatedAt\", \"ArticleTitle\",'ArticleChannel' ,\"ArticleRessortName\",\"ArticlePublishingDate\"],parse_dates=date_cols, sep=';')\n",
    "df2 = pd.read_csv('../data/Postings_16052019_31052019.csv', usecols=[\"ID_CommunityIdentity\", \"ID_Posting\",\"PostingCreatedAt\", \"ArticleTitle\",'ArticleChannel' ,\"ArticleRessortName\",\"ArticlePublishingDate\"], parse_dates=date_cols,sep=';')\n",
    "df=df1.append(df2, ignore_index=True)\n",
    "df.shape"
   ]
  },
  {
   "cell_type": "code",
   "execution_count": 24,
   "metadata": {
    "ExecuteTime": {
     "end_time": "2020-12-14T11:32:02.525885Z",
     "start_time": "2020-12-14T11:32:02.444957Z"
    }
   },
   "outputs": [],
   "source": [
    "df = df[(df.ArticleChannel == \"Inland\") & (~df.ArticleRessortName.isin([ \"Pensionen\", \"Eurofighter\",\"Off-Topic\"]))]\n",
    "#df.head()"
   ]
  },
  {
   "cell_type": "code",
   "execution_count": 25,
   "metadata": {
    "ExecuteTime": {
     "end_time": "2020-12-14T11:32:02.529717Z",
     "start_time": "2020-12-14T11:32:02.527079Z"
    }
   },
   "outputs": [
    {
     "data": {
      "text/plain": [
       "(185509, 7)"
      ]
     },
     "execution_count": 25,
     "metadata": {},
     "output_type": "execute_result"
    }
   ],
   "source": [
    "df.shape"
   ]
  },
  {
   "cell_type": "markdown",
   "metadata": {},
   "source": [
    "There are different entities in the data set: \n",
    "* Users - identified by *ID_CommunityIdentity* (or *UserCommunityName*)\n",
    "* Postings - identified by *ID_Posting*\n",
    "* Articles - identified by *ID_Article*\n",
    "\n",
    "Thus, there are different possibilities to build networks based on voting and posting data. \n",
    "We will concentrate now on the ***votes-to-network***. \n"
   ]
  },
  {
   "cell_type": "code",
   "execution_count": 26,
   "metadata": {
    "ExecuteTime": {
     "end_time": "2020-12-14T11:32:07.195240Z",
     "start_time": "2020-12-14T11:32:02.531528Z"
    }
   },
   "outputs": [],
   "source": [
    "date_cols = [\"VoteCreatedAt\",\"UserCreatedAt\"]\n",
    "votes1 = pd.read_csv('../data/Votes_01052019_15052019.csv',parse_dates=date_cols, sep=';')\n",
    "votes2 = pd.read_csv('../data/Votes_16052019_31052019.csv', parse_dates=date_cols,sep=';')\n",
    "votes=votes1.append(votes2, ignore_index=True)\n",
    "#votes.head()"
   ]
  },
  {
   "cell_type": "code",
   "execution_count": 27,
   "metadata": {
    "ExecuteTime": {
     "end_time": "2020-12-14T11:32:07.799404Z",
     "start_time": "2020-12-14T11:32:07.196305Z"
    }
   },
   "outputs": [
    {
     "data": {
      "text/plain": [
       "(1046528, 14)"
      ]
     },
     "execution_count": 27,
     "metadata": {},
     "output_type": "execute_result"
    }
   ],
   "source": [
    "PostAndVotes=pd.merge(df,votes,on=\"ID_Posting\")\n",
    "#PostAndVotes.head()\n",
    "PostAndVotes.shape"
   ]
  },
  {
   "cell_type": "code",
   "execution_count": 28,
   "metadata": {
    "ExecuteTime": {
     "end_time": "2020-12-14T11:32:24.204083Z",
     "start_time": "2020-12-14T11:32:07.800970Z"
    }
   },
   "outputs": [],
   "source": [
    "# filter off (= 1)\n",
    "PostAndVotes_less=PostAndVotes.groupby('ID_Posting').filter(lambda x : len(x)>1).copy()\n",
    "split_date= datetime.datetime(2019,5,17)\n",
    "\n",
    "PostAndVotes_before = PostAndVotes_less.loc[PostAndVotes_less['PostingCreatedAt'] <= split_date]\n",
    "PostAndVotes_after = PostAndVotes_less.loc[PostAndVotes_less['PostingCreatedAt'] > split_date]\n",
    "#PostAndVotes_after.head()"
   ]
  },
  {
   "cell_type": "code",
   "execution_count": 29,
   "metadata": {
    "ExecuteTime": {
     "end_time": "2020-12-14T11:32:24.207332Z",
     "start_time": "2020-12-14T11:32:24.205112Z"
    }
   },
   "outputs": [
    {
     "name": "stdout",
     "output_type": "stream",
     "text": [
      "Before shape: (326124, 14)\n",
      "After shape: (694606, 14)\n"
     ]
    }
   ],
   "source": [
    "print('Before shape: ' + str(PostAndVotes_before.shape))\n",
    "print('After shape: ' + str(PostAndVotes_after.shape))\n"
   ]
  },
  {
   "cell_type": "markdown",
   "metadata": {},
   "source": [
    "A line in the table above shows that a user (i.e., *ID_CommunityIdentiy*) posted a comment. Every post has its own uniqe identifier (i.e., *ID_Posting*). If a user votes for a posting then the vote is identified by the *ID_Posting* the voting was for, the *ID_CommunityIdentiy* from the voter. Next, it is also recorded, if the vote was negative or positive. This informtion is saved in  *VoteNegative* and *VotePositive* respectively.  \n",
    "\n",
    "We want to bring the structure above into following format: \n",
    "* source, i.e., the voting user\n",
    "* target, i.e., the post creator\n",
    "* weight, i.e., how often the source voted for the target (postive and negative)\n",
    "\n",
    "In other words, we are aiming for a *weighted edge-list*."
   ]
  },
  {
   "cell_type": "markdown",
   "metadata": {},
   "source": [
    "### Edges"
   ]
  },
  {
   "cell_type": "code",
   "execution_count": 30,
   "metadata": {
    "ExecuteTime": {
     "end_time": "2020-12-14T11:32:24.558993Z",
     "start_time": "2020-12-14T11:32:24.209369Z"
    }
   },
   "outputs": [],
   "source": [
    "edgeListBefore= PostAndVotes_before.groupby([\"ID_CommunityIdentity_x\",\"ID_CommunityIdentity_y\"]).agg({\"VoteNegative\": [(\"votes_neg_count\",\"sum\")], \"VotePositive\":[(\"votes_pos_count\",\"sum\")]})\n",
    "edgeListAfter= PostAndVotes_after.groupby([\"ID_CommunityIdentity_x\",\"ID_CommunityIdentity_y\"]).agg({\"VoteNegative\": [(\"votes_neg_count\",\"sum\")], \"VotePositive\":[(\"votes_pos_count\",\"sum\")]})\n"
   ]
  },
  {
   "cell_type": "code",
   "execution_count": 31,
   "metadata": {
    "ExecuteTime": {
     "end_time": "2020-12-14T11:32:24.562789Z",
     "start_time": "2020-12-14T11:32:24.560299Z"
    }
   },
   "outputs": [],
   "source": [
    "edgeListBefore.columns=edgeListBefore.columns.droplevel()\n",
    "edgeListAfter.columns=edgeListAfter.columns.droplevel()"
   ]
  },
  {
   "cell_type": "code",
   "execution_count": 32,
   "metadata": {
    "ExecuteTime": {
     "end_time": "2020-12-14T11:32:24.571453Z",
     "start_time": "2020-12-14T11:32:24.564901Z"
    }
   },
   "outputs": [],
   "source": [
    "#edgeListBefore.loc[edgeListBefore[\"votes_neg_count\"]>2]\n",
    "#edgeListBefore.describe()"
   ]
  },
  {
   "cell_type": "markdown",
   "metadata": {
    "ExecuteTime": {
     "end_time": "2020-12-06T12:00:01.585584Z",
     "start_time": "2020-12-06T11:53:07.788Z"
    }
   },
   "source": [
    "### Weight calculation\n",
    "PLEASE DEFINE YOUR WEIGHT BELOW "
   ]
  },
  {
   "cell_type": "code",
   "execution_count": 33,
   "metadata": {
    "ExecuteTime": {
     "end_time": "2020-12-14T11:32:24.576137Z",
     "start_time": "2020-12-14T11:32:24.572505Z"
    }
   },
   "outputs": [],
   "source": [
    "## original\n",
    "#edgeListBefore[\"weight\"]=edgeListBefore[\"votes_pos_count\"]-edgeListBefore[\"votes_neg_count\"]\n",
    "#edgeListAfter[\"weight\"]=edgeListAfter[\"votes_pos_count\"]-edgeListAfter[\"votes_neg_count\"]\n",
    "\n",
    "## pos > neg\n",
    "#edgeListBefore[\"weight\"]=np.where(edgeListBefore[\"votes_pos_count\"] >= edgeListBefore[\"votes_neg_count\"], 1, -1) \n",
    "#edgeListAfter[\"weight\"]=np.where(edgeListAfter[\"votes_pos_count\"] >= edgeListAfter[\"votes_neg_count\"], 1, -1) "
   ]
  },
  {
   "cell_type": "code",
   "execution_count": 34,
   "metadata": {
    "ExecuteTime": {
     "end_time": "2020-12-14T11:32:24.586404Z",
     "start_time": "2020-12-14T11:32:24.577187Z"
    }
   },
   "outputs": [],
   "source": [
    "## v1\n",
    "# edgeListBefore[\"weight\"]= (1+edgeListBefore[\"votes_pos_count\"])/(1+edgeListBefore[\"votes_neg_count\"])\n",
    "# edgeListAfter[\"weight\"]=(1+edgeListAfter[\"votes_pos_count\"])/(1+edgeListAfter[\"votes_neg_count\"])\n",
    "\n",
    "## v2: (-1 if any_neg_vote else 1)\n",
    "edgeListBefore[\"weight\"]= np.where(edgeListBefore[\"votes_neg_count\"] > 0, -1, 1) \n",
    "edgeListAfter[\"weight\"]= np.where(edgeListAfter[\"votes_neg_count\"] > 0, -1, 1) "
   ]
  },
  {
   "cell_type": "code",
   "execution_count": 35,
   "metadata": {
    "ExecuteTime": {
     "end_time": "2020-12-14T11:32:24.622754Z",
     "start_time": "2020-12-14T11:32:24.587514Z"
    }
   },
   "outputs": [
    {
     "data": {
      "text/html": [
       "<div>\n",
       "<style scoped>\n",
       "    .dataframe tbody tr th:only-of-type {\n",
       "        vertical-align: middle;\n",
       "    }\n",
       "\n",
       "    .dataframe tbody tr th {\n",
       "        vertical-align: top;\n",
       "    }\n",
       "\n",
       "    .dataframe thead th {\n",
       "        text-align: right;\n",
       "    }\n",
       "</style>\n",
       "<table border=\"1\" class=\"dataframe\">\n",
       "  <thead>\n",
       "    <tr style=\"text-align: right;\">\n",
       "      <th></th>\n",
       "      <th>votes_neg_count</th>\n",
       "      <th>votes_pos_count</th>\n",
       "      <th>weight</th>\n",
       "    </tr>\n",
       "  </thead>\n",
       "  <tbody>\n",
       "    <tr>\n",
       "      <th>count</th>\n",
       "      <td>599530.000000</td>\n",
       "      <td>599530.000000</td>\n",
       "      <td>599530.000000</td>\n",
       "    </tr>\n",
       "    <tr>\n",
       "      <th>mean</th>\n",
       "      <td>0.226669</td>\n",
       "      <td>0.931915</td>\n",
       "      <td>0.601171</td>\n",
       "    </tr>\n",
       "    <tr>\n",
       "      <th>std</th>\n",
       "      <td>0.532390</td>\n",
       "      <td>0.854299</td>\n",
       "      <td>0.799121</td>\n",
       "    </tr>\n",
       "    <tr>\n",
       "      <th>min</th>\n",
       "      <td>0.000000</td>\n",
       "      <td>0.000000</td>\n",
       "      <td>-1.000000</td>\n",
       "    </tr>\n",
       "    <tr>\n",
       "      <th>25%</th>\n",
       "      <td>0.000000</td>\n",
       "      <td>1.000000</td>\n",
       "      <td>1.000000</td>\n",
       "    </tr>\n",
       "    <tr>\n",
       "      <th>50%</th>\n",
       "      <td>0.000000</td>\n",
       "      <td>1.000000</td>\n",
       "      <td>1.000000</td>\n",
       "    </tr>\n",
       "    <tr>\n",
       "      <th>75%</th>\n",
       "      <td>0.000000</td>\n",
       "      <td>1.000000</td>\n",
       "      <td>1.000000</td>\n",
       "    </tr>\n",
       "    <tr>\n",
       "      <th>max</th>\n",
       "      <td>61.000000</td>\n",
       "      <td>114.000000</td>\n",
       "      <td>1.000000</td>\n",
       "    </tr>\n",
       "  </tbody>\n",
       "</table>\n",
       "</div>"
      ],
      "text/plain": [
       "       votes_neg_count  votes_pos_count         weight\n",
       "count    599530.000000    599530.000000  599530.000000\n",
       "mean          0.226669         0.931915       0.601171\n",
       "std           0.532390         0.854299       0.799121\n",
       "min           0.000000         0.000000      -1.000000\n",
       "25%           0.000000         1.000000       1.000000\n",
       "50%           0.000000         1.000000       1.000000\n",
       "75%           0.000000         1.000000       1.000000\n",
       "max          61.000000       114.000000       1.000000"
      ]
     },
     "execution_count": 35,
     "metadata": {},
     "output_type": "execute_result"
    }
   ],
   "source": [
    "edgeListBefore.rename_axis(['source', 'target'], inplace=True)\n",
    "edgeListAfter.rename_axis(['source', 'target'], inplace=True)\n",
    "edgeListAfter.describe()"
   ]
  },
  {
   "cell_type": "code",
   "execution_count": 36,
   "metadata": {
    "ExecuteTime": {
     "end_time": "2020-12-14T11:32:24.636111Z",
     "start_time": "2020-12-14T11:32:24.623930Z"
    }
   },
   "outputs": [],
   "source": [
    "# edgesBefore = edgeListBefore.drop(['votes_neg_count', 'votes_pos_count'], axis=1).reset_index()\n",
    "# edgesAfter = edgeListAfter.drop(['votes_neg_count', 'votes_pos_count'], axis=1).reset_index()\n",
    "edgesBefore = edgeListBefore.reset_index()\n",
    "edgesAfter = edgeListAfter.reset_index()\n",
    "\n",
    "\n",
    "#edgesAfter"
   ]
  },
  {
   "cell_type": "code",
   "execution_count": 39,
   "metadata": {
    "ExecuteTime": {
     "end_time": "2020-12-14T11:32:56.069423Z",
     "start_time": "2020-12-14T11:32:52.373072Z"
    }
   },
   "outputs": [],
   "source": [
    "edgesBefore.to_csv(\"../data/edges_before.csv\", index=False)\n",
    "edgesAfter.to_csv(\"../data/edges_after.csv\", index=False)"
   ]
  },
  {
   "cell_type": "markdown",
   "metadata": {},
   "source": [
    "### Quickstart point #1"
   ]
  },
  {
   "cell_type": "code",
   "execution_count": 4,
   "metadata": {
    "ExecuteTime": {
     "end_time": "2020-12-19T13:30:00.049161Z",
     "start_time": "2020-12-19T13:29:59.838250Z"
    }
   },
   "outputs": [],
   "source": [
    "## quickstart\n",
    "import numpy as np\n",
    "from networkx import nx\n",
    "\n",
    "import pandas as pd\n",
    "import datetime\n",
    "import matplotlib.pyplot as plt\n",
    "from numpy.linalg import matrix_power\n",
    "\n",
    "edgesBefore = pd.read_csv(\"../data/edges_before.csv\")\n",
    "edgesAfter = pd.read_csv(\"../data/edges_after.csv\")"
   ]
  },
  {
   "cell_type": "markdown",
   "metadata": {},
   "source": [
    "### Graph\n",
    "\n",
    "We use the *networkx* library.\n",
    "Since we build a *votes-to-network* we have *source* nodes and *target* nodes. \n",
    "Thus, the network is directed.\n",
    "Therefore, we use *nx.Digraph()*"
   ]
  },
  {
   "cell_type": "code",
   "execution_count": 11,
   "metadata": {
    "ExecuteTime": {
     "end_time": "2020-12-19T13:30:23.992660Z",
     "start_time": "2020-12-19T13:30:15.224276Z"
    }
   },
   "outputs": [],
   "source": [
    "G = nx.from_pandas_edgelist(edgesAfter, \n",
    "                            source='source', \n",
    "                            target='target', \n",
    "                            edge_attr = 'weight',\n",
    "                            create_using=nx.DiGraph())\n",
    "\n",
    "## use undirected graph and convert to adjacency matrix\n",
    "A = nx.to_numpy_matrix(G.to_undirected())"
   ]
  },
  {
   "cell_type": "markdown",
   "metadata": {},
   "source": [
    "### Create Adjacency Matrix from diGraph, take A^3"
   ]
  },
  {
   "cell_type": "code",
   "execution_count": 41,
   "metadata": {
    "ExecuteTime": {
     "end_time": "2020-12-14T11:40:23.591011Z",
     "start_time": "2020-12-14T11:34:10.721241Z"
    }
   },
   "outputs": [],
   "source": [
    "A3 = matrix_power(A,3)"
   ]
  },
  {
   "cell_type": "code",
   "execution_count": 42,
   "metadata": {
    "ExecuteTime": {
     "end_time": "2020-12-14T11:40:23.680967Z",
     "start_time": "2020-12-14T11:40:23.632873Z"
    }
   },
   "outputs": [
    {
     "name": "stdout",
     "output_type": "stream",
     "text": [
      "18905184.0 20181\n"
     ]
    }
   ],
   "source": [
    "print(np.trace(A3), len(A3))\n",
    "## shape = (20181, 20181)"
   ]
  },
  {
   "cell_type": "markdown",
   "metadata": {},
   "source": [
    "### Make a dictionary:  A3di from subset of elements where A3[i,i]>0\n",
    "diagonal & _un_ directed & its a dictionary!\n",
    "\n",
    "values in dict indicate number of possible cycles of length 3 = triads \n",
    "\n",
    "*i think* every path is counted twice."
   ]
  },
  {
   "cell_type": "code",
   "execution_count": 43,
   "metadata": {
    "ExecuteTime": {
     "end_time": "2020-12-14T11:41:37.712635Z",
     "start_time": "2020-12-14T11:41:37.610725Z"
    }
   },
   "outputs": [
    {
     "data": {
      "text/plain": [
       "14830"
      ]
     },
     "execution_count": 43,
     "metadata": {},
     "output_type": "execute_result"
    }
   ],
   "source": [
    "A3di = {}\n",
    "for i in range(len(A3)):\n",
    "    if (A3[i,i] > 0):\n",
    "        A3di[i] = A3[i,i] \n",
    "len(A3di.keys())"
   ]
  },
  {
   "cell_type": "markdown",
   "metadata": {},
   "source": [
    "#### Make Sub-dictionary with only highly connected ones"
   ]
  },
  {
   "cell_type": "code",
   "execution_count": 5,
   "metadata": {
    "ExecuteTime": {
     "end_time": "2020-12-19T13:22:20.044438Z",
     "start_time": "2020-12-19T13:22:20.037623Z"
    }
   },
   "outputs": [
    {
     "data": {
      "text/plain": [
       "5199"
      ]
     },
     "execution_count": 5,
     "metadata": {},
     "output_type": "execute_result"
    }
   ],
   "source": [
    "A3di_mini = {k:v for k,v in A3di.items() if v > 200}\n",
    "len(A3di_mini.keys())"
   ]
  },
  {
   "cell_type": "markdown",
   "metadata": {},
   "source": [
    "#### Write dictionary to file"
   ]
  },
  {
   "cell_type": "code",
   "execution_count": 3,
   "metadata": {
    "ExecuteTime": {
     "end_time": "2020-12-19T13:21:28.514518Z",
     "start_time": "2020-12-19T13:21:28.487562Z"
    }
   },
   "outputs": [
    {
     "data": {
      "text/plain": [
       "14830"
      ]
     },
     "execution_count": 3,
     "metadata": {},
     "output_type": "execute_result"
    }
   ],
   "source": [
    "# write after\n",
    "A3di_after_df = pd.DataFrame.from_dict(A3di, orient='index')\n",
    "A3di_after_df.to_csv(\"../dicts/A3di_after.csv\")\n",
    "\n",
    "# read after\n",
    "A3di_after_df = pd.read_csv(\"../dicts/A3di_after.csv\", index_col=0)\n",
    "A3di = A3di_after_df['0'].to_dict()\n",
    "\n",
    "len(A3di.keys())"
   ]
  },
  {
   "cell_type": "code",
   "execution_count": null,
   "metadata": {
    "ExecuteTime": {
     "end_time": "2020-12-19T13:21:39.362524Z",
     "start_time": "2020-12-19T13:21:39.352036Z"
    }
   },
   "outputs": [],
   "source": []
  },
  {
   "cell_type": "markdown",
   "metadata": {},
   "source": [
    "### Repeat for before"
   ]
  },
  {
   "cell_type": "code",
   "execution_count": 56,
   "metadata": {
    "ExecuteTime": {
     "end_time": "2020-12-14T11:46:16.097280Z",
     "start_time": "2020-12-14T11:46:08.846179Z"
    }
   },
   "outputs": [],
   "source": [
    "G_b = nx.from_pandas_edgelist(edgesBefore, \n",
    "                            source='source', \n",
    "                            target='target', \n",
    "                            edge_attr = 'weight',\n",
    "                            create_using=nx.DiGraph())\n",
    "Adj_b = nx.to_numpy_matrix(G_b.to_undirected())"
   ]
  },
  {
   "cell_type": "code",
   "execution_count": 63,
   "metadata": {
    "ExecuteTime": {
     "end_time": "2020-12-14T11:55:07.719900Z",
     "start_time": "2020-12-14T11:55:07.716267Z"
    }
   },
   "outputs": [
    {
     "name": "stdout",
     "output_type": "stream",
     "text": [
      "6092736.0 13659\n"
     ]
    }
   ],
   "source": [
    "A3_b = matrix_power(Adj_b,3)\n",
    "print(np.trace(A3_b), len(A3_b))"
   ]
  },
  {
   "cell_type": "code",
   "execution_count": 64,
   "metadata": {
    "ExecuteTime": {
     "end_time": "2020-12-14T11:55:27.553126Z",
     "start_time": "2020-12-14T11:55:27.522946Z"
    }
   },
   "outputs": [
    {
     "data": {
      "text/plain": [
       "9861"
      ]
     },
     "execution_count": 64,
     "metadata": {},
     "output_type": "execute_result"
    }
   ],
   "source": [
    "A3di_b = {}\n",
    "for i in range(len(A3_b)):\n",
    "    if (A3_b[i,i] > 0):\n",
    "        A3di_b[i] = A3_b[i,i] \n",
    "len(A3di_b.keys())"
   ]
  },
  {
   "cell_type": "code",
   "execution_count": 65,
   "metadata": {
    "ExecuteTime": {
     "end_time": "2020-12-14T11:55:28.605669Z",
     "start_time": "2020-12-14T11:55:28.569023Z"
    }
   },
   "outputs": [
    {
     "data": {
      "text/plain": [
       "9861"
      ]
     },
     "execution_count": 65,
     "metadata": {},
     "output_type": "execute_result"
    }
   ],
   "source": [
    "# write before\n",
    "A3di_before_df = pd.DataFrame.from_dict(A3di_b, orient='index')\n",
    "A3di_before_df.to_csv(\"../dicts/A3di_before.csv\")\n",
    "\n",
    "# read before\n",
    "A3di_before_df = pd.read_csv(\"../dicts/A3di_before.csv\", index_col=0)\n",
    "A3di_b = A3di_before_df['0'].to_dict()\n",
    "len(A3di_b.keys())"
   ]
  },
  {
   "cell_type": "markdown",
   "metadata": {},
   "source": [
    "# Quickstart here\n",
    "### Now use this to create a subgraph which should be highly connected.\n",
    "Easily filter with values (which are A3[key,key])"
   ]
  },
  {
   "cell_type": "code",
   "execution_count": 30,
   "metadata": {
    "ExecuteTime": {
     "end_time": "2020-12-14T11:55:37.800795Z",
     "start_time": "2020-12-14T11:55:37.780665Z"
    }
   },
   "outputs": [
    {
     "name": "stdout",
     "output_type": "stream",
     "text": [
      "14830 9861\n"
     ]
    }
   ],
   "source": [
    "# read before\n",
    "A3di_before_df = pd.read_csv(\"../dicts/A3di_before.csv\", index_col=0)\n",
    "A3di_b = A3di_before_df['0'].to_dict()\n",
    "# read after\n",
    "A3di_after_df = pd.read_csv(\"../dicts/A3di_after.csv\", index_col=0)\n",
    "A3di = A3di_after_df['0'].to_dict()\n",
    "print(len(A3di.keys()), len(A3di_b.keys()))"
   ]
  },
  {
   "cell_type": "code",
   "execution_count": 31,
   "metadata": {
    "ExecuteTime": {
     "end_time": "2020-12-19T14:05:33.106544Z",
     "start_time": "2020-12-19T14:05:33.100619Z"
    }
   },
   "outputs": [
    {
     "data": {
      "text/plain": [
       "3477"
      ]
     },
     "execution_count": 31,
     "metadata": {},
     "output_type": "execute_result"
    }
   ],
   "source": [
    "## possibly filter for value > k\n",
    "A3di_mini = {k:v for k,v in A3di.items() if v > 500}\n",
    "len(A3di_mini)"
   ]
  },
  {
   "cell_type": "code",
   "execution_count": 28,
   "metadata": {
    "ExecuteTime": {
     "end_time": "2020-12-19T14:04:46.265063Z",
     "start_time": "2020-12-19T14:04:46.253012Z"
    }
   },
   "outputs": [],
   "source": [
    "Gmini = G.subgraph(A3di_mini.keys()).copy()"
   ]
  },
  {
   "cell_type": "markdown",
   "metadata": {},
   "source": [
    "### Triadic Census"
   ]
  },
  {
   "cell_type": "code",
   "execution_count": 29,
   "metadata": {
    "ExecuteTime": {
     "end_time": "2020-12-19T14:04:46.535176Z",
     "start_time": "2020-12-19T14:04:46.512806Z"
    }
   },
   "outputs": [
    {
     "data": {
      "text/plain": [
       "{'003': 3242943,\n",
       " '012': 35156,\n",
       " '102': 1175,\n",
       " '021D': 216,\n",
       " '021U': 521,\n",
       " '021C': 254,\n",
       " '111D': 117,\n",
       " '111U': 24,\n",
       " '030T': 26,\n",
       " '030C': 0,\n",
       " '201': 6,\n",
       " '120D': 12,\n",
       " '120U': 4,\n",
       " '120C': 1,\n",
       " '210': 0,\n",
       " '300': 0}"
      ]
     },
     "execution_count": 29,
     "metadata": {},
     "output_type": "execute_result"
    }
   ],
   "source": [
    "nx.triadic_census(Gmini)"
   ]
  },
  {
   "cell_type": "markdown",
   "metadata": {},
   "source": [
    "### ..."
   ]
  },
  {
   "cell_type": "code",
   "execution_count": 12,
   "metadata": {
    "ExecuteTime": {
     "end_time": "2020-12-19T14:01:36.830188Z",
     "start_time": "2020-12-19T13:30:26.668793Z"
    }
   },
   "outputs": [
    {
     "data": {
      "text/plain": [
       "{'003': 1357981965714,\n",
       " '012': 11271168060,\n",
       " '102': 229652913,\n",
       " '021D': 63105671,\n",
       " '021U': 53451794,\n",
       " '021C': 43726443,\n",
       " '111D': 4961688,\n",
       " '111U': 5347522,\n",
       " '030T': 3694951,\n",
       " '030C': 136772,\n",
       " '201': 259211,\n",
       " '120D': 265479,\n",
       " '120U': 303144,\n",
       " '120C': 178957,\n",
       " '210': 77701,\n",
       " '300': 5950}"
      ]
     },
     "execution_count": 12,
     "metadata": {},
     "output_type": "execute_result"
    }
   ],
   "source": [
    "nx.triadic_census(G)"
   ]
  },
  {
   "cell_type": "markdown",
   "metadata": {},
   "source": [
    "## Follow Graph: Ignore Relations"
   ]
  },
  {
   "cell_type": "code",
   "execution_count": 5,
   "metadata": {},
   "outputs": [
    {
     "name": "stdout",
     "output_type": "stream",
     "text": [
      "17485 86691\n"
     ]
    }
   ],
   "source": [
    "follow = pd.read_csv(('../data/Following_Ignoring_Relationships_01052019_31052019.csv'), sep=';')\n",
    "t1 = follow[follow.ID_CommunityConnectionType == 1]#.iloc[:,:2] # follow\n",
    "t2 = follow[follow.ID_CommunityConnectionType == 2]#.iloc[:,:2] # ignore\n",
    "t2.loc[:,'ID_CommunityConnectionType'] = t2.loc[:,'ID_CommunityConnectionType'].replace(2, -1)\n",
    "\n",
    "Fg = nx.DiGraph()\n",
    "Fg.add_nodes_from(t1.iloc[:,0].unique())\n",
    "Fg.add_nodes_from(t1.iloc[:,1].unique())\n",
    "Fg.add_nodes_from(t2.iloc[:,0].unique())\n",
    "Fg.add_nodes_from(t2.iloc[:,1].unique())\n",
    "\n",
    "e1 = list(zip(t1.ID_CommunityIdentity, t1.ID_CommunityIdentityConnectedTo))\n",
    "e2 = list(zip(t2.ID_CommunityIdentity, t2.ID_CommunityIdentityConnectedTo))\n",
    "\n",
    "### Weighted > t1.ID_CommunityConnectionType\n",
    "Fg.add_edges_from(e1, w=1)\n",
    "Fg.add_edges_from(e2, w=-1)\n",
    "print(len(Fg.nodes()), len(Fg.edges()) )"
   ]
  },
  {
   "cell_type": "code",
   "execution_count": 8,
   "metadata": {},
   "outputs": [
    {
     "name": "stdout",
     "output_type": "stream",
     "text": [
      "10570\n",
      "12526\n",
      "2743\n",
      "7262\n"
     ]
    }
   ],
   "source": [
    "print(len(t1.iloc[:,0].unique()))\n",
    "print(len(t1.iloc[:,1].unique()))\n",
    "print(len(t2.iloc[:,0].unique()))\n",
    "print(len(t2.iloc[:,1].unique()))"
   ]
  },
  {
   "cell_type": "code",
   "execution_count": 53,
   "metadata": {},
   "outputs": [
    {
     "data": {
      "text/plain": [
       "7"
      ]
     },
     "execution_count": 53,
     "metadata": {},
     "output_type": "execute_result"
    }
   ],
   "source": [
    "ignore = []\n",
    "for _, (s,t) in enumerate(zip(t2.ID_CommunityIdentity, t2.ID_CommunityIdentityConnectedTo)):\n",
    "    if (s in A3di.keys()) & (t in A3di.keys()):\n",
    "        #print(s,t)\n",
    "        ignore.append((s,t))\n",
    "    #print(_)\n",
    "len(ignore)"
   ]
  },
  {
   "cell_type": "code",
   "execution_count": null,
   "metadata": {},
   "outputs": [],
   "source": []
  },
  {
   "cell_type": "code",
   "execution_count": null,
   "metadata": {},
   "outputs": [],
   "source": []
  },
  {
   "cell_type": "code",
   "execution_count": null,
   "metadata": {},
   "outputs": [],
   "source": []
  },
  {
   "cell_type": "markdown",
   "metadata": {},
   "source": [
    "## Previously..."
   ]
  },
  {
   "cell_type": "code",
   "execution_count": null,
   "metadata": {},
   "outputs": [],
   "source": [
    "edgesBefore = pd.read_csv(\"../data/votes_to_comments_before.csv\")\n",
    "edgesAfter = pd.read_csv(\"../data/votes_to_comments_after.csv\")"
   ]
  },
  {
   "cell_type": "code",
   "execution_count": null,
   "metadata": {},
   "outputs": [],
   "source": [
    "G = nx.from_pandas_edgelist(edgesAfter, \n",
    "                            source='source', \n",
    "                            target='target', \n",
    "                            edge_attr = 'weight',\n",
    "                            create_using=nx.DiGraph())"
   ]
  },
  {
   "cell_type": "code",
   "execution_count": 3,
   "metadata": {},
   "outputs": [],
   "source": [
    "UG = G.to_undirected()\n",
    "#count=0\n",
    "for node in G:\n",
    "    for ngbr in nx.neighbors(G, node):\n",
    "        if node in nx.neighbors(G, ngbr):\n",
    "            UG.edges[node, ngbr]['weight'] = (np.where( \n",
    "                G.edges[node, ngbr]['weight'] + G.edges[ngbr, node]['weight'] >=0,1,-1))\n",
    "           # if np.sign(G.edges[node, ngbr]['weight'])==np.sign(G.edges[ngbr, node]['weight']):\n",
    "                                       #       count=count+1"
   ]
  },
  {
   "cell_type": "code",
   "execution_count": null,
   "metadata": {},
   "outputs": [],
   "source": [
    "A = nx.to_numpy_matrix(UG)\n",
    "A3 = matrix_power(A,3)"
   ]
  },
  {
   "cell_type": "code",
   "execution_count": null,
   "metadata": {},
   "outputs": [],
   "source": [
    "A_absolut_3 = matrix_power(abs(A),3)\n",
    "triangle_index = (np.trace(A3) + np.trace(A_absolut_3)) / (2*np.trace(A_absolut_3))\n",
    "triangle_index"
   ]
  },
  {
   "cell_type": "markdown",
   "metadata": {},
   "source": [
    "## Before"
   ]
  },
  {
   "cell_type": "code",
   "execution_count": null,
   "metadata": {},
   "outputs": [],
   "source": [
    "#edgesBefore = pd.read_csv(\"../data/votes_to_comments_before.csv\")\n",
    "G_2 = nx.from_pandas_edgelist(edgesBefore, \n",
    "                            source='source', \n",
    "                            target='target', \n",
    "                            edge_attr = 'weight',\n",
    "                            create_using=nx.DiGraph())"
   ]
  },
  {
   "cell_type": "code",
   "execution_count": null,
   "metadata": {},
   "outputs": [],
   "source": [
    "UG_2 = G_2.to_undirected()\n",
    "for node in G_2:\n",
    "    for ngbr in nx.neighbors(G_2, node):\n",
    "        if node in nx.neighbors(G_2, ngbr):\n",
    "            UG_2.edges[node, ngbr]['weight'] = (np.where( \n",
    "                G_2.edges[node, ngbr]['weight'] + G_2.edges[ngbr, node]['weight'] >=0,1,-1))\n",
    "           # if np.sign(G.edges[node, ngbr]['weight'])==np.sign(G.edges[ngbr, node]['weight']):\n",
    "                                       #       count=count+1"
   ]
  },
  {
   "cell_type": "code",
   "execution_count": null,
   "metadata": {},
   "outputs": [],
   "source": [
    "A = nx.to_numpy_matrix(UG_2)\n",
    "A3 = matrix_power(A,3)\n"
   ]
  },
  {
   "cell_type": "code",
   "execution_count": null,
   "metadata": {},
   "outputs": [],
   "source": [
    "A_absolut_3 = matrix_power(abs(A),3)\n",
    "triangle_index_2 = (np.trace(A3) + np.trace(A_absolut_3)) / (2*np.trace(A_absolut_3))\n",
    "triangle_index_2"
   ]
  },
  {
   "cell_type": "markdown",
   "metadata": {},
   "source": [
    "__________________________________________"
   ]
  },
  {
   "cell_type": "markdown",
   "metadata": {},
   "source": [
    "## Triadic Census"
   ]
  },
  {
   "cell_type": "code",
   "execution_count": null,
   "metadata": {},
   "outputs": [],
   "source": [
    "nx.algorithms.triads.triadic_census(G)"
   ]
  },
  {
   "cell_type": "code",
   "execution_count": null,
   "metadata": {},
   "outputs": [],
   "source": [
    "from nxtriads import triads_by_type\n",
    "### Copied source code instead of updating to NetworkX == 2.5\n",
    "### see file nxtriads.py\n",
    "## __all__ = [\"triadic_census\", \"is_triad\", \"all_triplets\", \"all_triads\",\n",
    "## \"triads_by_type\", \"triad_type\", \"random_triad\", ]\n",
    "\n",
    "# convenience\n",
    "from networkx import nx\n",
    "import pandas as pd"
   ]
  },
  {
   "cell_type": "code",
   "execution_count": null,
   "metadata": {},
   "outputs": [],
   "source": [
    "edges5d = pd.read_csv(\"../data/votes_to_comments_5days.csv\")\n",
    "G5 = nx.from_pandas_edgelist(edges5d, \n",
    "                            source='source', \n",
    "                            target='target', \n",
    "                            edge_attr = 'weight',\n",
    "                            create_using=nx.DiGraph())\n",
    "print(nx.info(G5))"
   ]
  },
  {
   "cell_type": "code",
   "execution_count": null,
   "metadata": {},
   "outputs": [],
   "source": [
    "## kills kernel every time (pushes RAM >>10gb even on tiny graph)\n",
    "triads_5 = triads_by_type(G5)"
   ]
  },
  {
   "cell_type": "code",
   "execution_count": null,
   "metadata": {},
   "outputs": [],
   "source": [
    "\n",
    "#triads_5.keys()"
   ]
  },
  {
   "cell_type": "code",
   "execution_count": null,
   "metadata": {},
   "outputs": [],
   "source": []
  }
 ],
 "metadata": {
  "kernelspec": {
   "display_name": "Python 3",
   "language": "python",
   "name": "python3"
  },
  "language_info": {
   "codemirror_mode": {
    "name": "ipython",
    "version": 3
   },
   "file_extension": ".py",
   "mimetype": "text/x-python",
   "name": "python",
   "nbconvert_exporter": "python",
   "pygments_lexer": "ipython3",
   "version": "3.7.6"
  },
  "toc": {
   "base_numbering": 1,
   "nav_menu": {},
   "number_sections": false,
   "sideBar": true,
   "skip_h1_title": false,
   "title_cell": "Table of Contents",
   "title_sidebar": "Contents",
   "toc_cell": false,
   "toc_position": {},
   "toc_section_display": true,
   "toc_window_display": false
  }
 },
 "nbformat": 4,
 "nbformat_minor": 4
}
