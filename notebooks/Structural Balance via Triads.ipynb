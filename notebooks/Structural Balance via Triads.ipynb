{
 "cells": [
  {
   "cell_type": "code",
   "execution_count": 1,
   "metadata": {},
   "outputs": [],
   "source": [
    "import numpy as np\n",
    "from networkx import nx\n",
    "from collections import defaultdict\n",
    "from itertools import combinations\n",
    "\n",
    "import pandas as pd\n",
    "import datetime\n",
    "import matplotlib.pyplot as plt\n",
    "import nxtriads as nx2 ## import modified functions"
   ]
  },
  {
   "cell_type": "markdown",
   "metadata": {},
   "source": [
    "# Hilfsfunktionen"
   ]
  },
  {
   "cell_type": "code",
   "execution_count": 2,
   "metadata": {},
   "outputs": [],
   "source": [
    "def find_double_edge(triad_edge_data):\n",
    "    for i in triad_edge_data:\n",
    "        for j in triad_edge_data:\n",
    "            if (i[0]==j[1] and i[1]==j[0]):\n",
    "                x = i[0]\n",
    "                y = i[1]\n",
    "    return x,y\n",
    "\n",
    "def find_double_edge2(triad_edge_data):\n",
    "    double_edges = []\n",
    "    for i in triad_edge_data:\n",
    "        for j in triad_edge_data:\n",
    "            if (i[0]==j[1] and i[1]==j[0]):\n",
    "                x = i[0]\n",
    "                y = i[1]\n",
    "                double_edges.append((x,y))\n",
    "    return double_edges\n",
    "\n",
    "def Reverse(tuples): \n",
    "    new_tup = tuples[::-1] \n",
    "    return new_tup \n",
    "\n"
   ]
  },
  {
   "cell_type": "code",
   "execution_count": 11,
   "metadata": {},
   "outputs": [],
   "source": [
    "def triads_by_specific_types(G, my_types):\n",
    "    \"\"\"Returns a list of triads of pre-defined types in a directed graph.\n",
    "    Parameters\n",
    "    ----------\n",
    "    G : digraph\n",
    "       A NetworkX DiGraph\n",
    "    Returns\n",
    "    -------\n",
    "    tri_by_type : dict\n",
    "       Dictionary with triad types as keys and lists of triads as values.\n",
    "    \"\"\"\n",
    "    all_tri = nx2.all_triads_mod(G) # modified function to skip if len < 3\n",
    "    tri_by_type = defaultdict(list)\n",
    "    for triad in all_tri:\n",
    "        if (nx2.triad_type(triad) in my_types):\n",
    "            name = nx2.triad_type(triad)\n",
    "            tri_by_type[name].append(triad)\n",
    "    return tri_by_type\n",
    "\n",
    "\n",
    "\n",
    "def balance_for_2_semicycles(triad_edge_data):\n",
    "    semicycle_balance = 1\n",
    "    x, y = find_double_edge(triad_edge_data)\n",
    "    positive_set = []\n",
    "    negative_set = []\n",
    "    \n",
    "    # calculating balance/imbalance for both semicycles\n",
    "    for edge in triad_edge_data:\n",
    "        semicycle_balance *= (edge[2])['weight']\n",
    "        \n",
    "    for edge in triad_edge_data:\n",
    "        if ((x == edge[0]) and (y == edge[1])):\n",
    "            semicycle_balance_1 = semicycle_balance / ((edge[2])['weight'])\n",
    "        if ((x == edge[1]) and (y == edge[0])):\n",
    "            semicycle_balance_2 = semicycle_balance / ((edge[2])['weight'])\n",
    "            \n",
    "    # checking for both semicycles if balanced or imbalanced   \n",
    "    if (semicycle_balance_1 > 0):\n",
    "        positive_set.append(semicycle_balance_1)\n",
    "    else:\n",
    "        negative_set.append(semicycle_balance_1)\n",
    "            \n",
    "    if (semicycle_balance_2 > 0):\n",
    "        positive_set.append(semicycle_balance_2)\n",
    "    else:\n",
    "        negative_set.append(semicycle_balance_2)\n",
    "            \n",
    "    triangle_balance = len(positive_set)/(len(positive_set) + len(negative_set))   # step 8 in algorithm             \n",
    "    return triangle_balance\n",
    "\n",
    "\n",
    "def semicycle_extraction(double_edges):\n",
    "    triplets = combinations(double_edges, 3)\n",
    "    triple = []\n",
    "    cycles = []\n",
    "    delete = []\n",
    "    semicycles = []\n",
    "    \n",
    "    for triplet in triplets:\n",
    "        triple.append(triplet)\n",
    "        \n",
    "    for i in range(len(triple)):\n",
    "        if (Reverse((triple[i])[0]) in triple[i]):\n",
    "            delete.append(triple[i])\n",
    "        elif (Reverse((triple[i])[1]) in triple[i]):\n",
    "            delete.append(triple[i])\n",
    "        else:\n",
    "            cycles.append(triple[i])\n",
    "            \n",
    "    nodes = []\n",
    "    for tuples in cycles[0]:\n",
    "        nodes.append(tuples[0])\n",
    "        nodes.append(tuples[1])\n",
    "    unique_nodes = np.unique(nodes)\n",
    "\n",
    "    a = unique_nodes[0]\n",
    "    b = unique_nodes[1]\n",
    "    c = unique_nodes[2]\n",
    "            \n",
    "    for cycle in cycles:\n",
    "        if ((a,b) in cycle and (b,c) in cycle and (c,a) in cycle):\n",
    "            delete.append(cycle)\n",
    "        elif ((b,a) in cycle and (c,b) in cycle and (a,c) in cycle):\n",
    "            delete.append(cycle)\n",
    "        else:\n",
    "            semicycles.append(cycle)\n",
    "\n",
    "    return semicycles\n",
    "\n",
    "\n",
    "\n",
    "def balance_for_triad_type_300(triad_edge_data):\n",
    "    semicycle_balance = 1\n",
    "    double_edges = find_double_edge2(triad_edge_data)\n",
    "    semicycles = semicycle_extraction(double_edges)\n",
    "    \n",
    "    positive_set = []\n",
    "    negative_set = []    \n",
    "    \n",
    "    #for semicycle in semicycles:\n",
    "    #    semi\n",
    "    \n",
    "    \n",
    "    for cycle in semicycles:\n",
    "        semicycle_balance = 1\n",
    "        for i in range(3):\n",
    "            for edge in triad_edge_data:\n",
    "                if (cycle[i] == (edge[0], edge[1])):\n",
    "                    semicycle_balance *= edge[2]['weight']\n",
    "        if semicycle_balance > 0:\n",
    "            positive_set.append(semicycle_balance)\n",
    "        else:\n",
    "            negative_set.append(semicycle_balance)\n",
    "            \n",
    "    triangle_balance = len(positive_set)/(len(positive_set) + len(negative_set))   # step 8 in algorithm             \n",
    "    return triangle_balance"
   ]
  },
  {
   "cell_type": "markdown",
   "metadata": {},
   "source": [
    "# Balance Ratio Function"
   ]
  },
  {
   "cell_type": "code",
   "execution_count": 34,
   "metadata": {},
   "outputs": [],
   "source": [
    "def balance_ratio(graph):\n",
    "    my_types = {'030T', '120D', '120U', '300'}\n",
    "    triads = triads_by_specific_types(graph, my_types)\n",
    "    \n",
    "    sum_balance_030T = 0\n",
    "    sum_balance_120D = 0\n",
    "    sum_balance_120U = 0\n",
    "    sum_balance_300 = 0\n",
    "    \n",
    "    for triad_type in my_types:\n",
    "        for i in range(len(triads[triad_type])):\n",
    "            \n",
    "            if (triad_type == '030T'):\n",
    "                edge_data = ((triads['030T'])[i]).edges(data = True)\n",
    "                semicycle_balance_030T = 1\n",
    "                for edge in edge_data:\n",
    "                    semicycle_balance_030T *= (edge[2])['weight']\n",
    "                if (semicycle_balance_030T > 0):\n",
    "                    sum_balance_030T += 1                   \n",
    "                else:\n",
    "                    sum_balance_030T += 0\n",
    "                \n",
    "                \n",
    "            elif (triad_type == '120D'):\n",
    "                edge_data = ((triads['120D'])[i]).edges(data = True)\n",
    "                triangle_balance_120D = balance_for_2_semicycles(edge_data)\n",
    "                \n",
    "                sum_balance_120D += triangle_balance_120D\n",
    "                \n",
    "            elif (triad_type == '120U'):\n",
    "                edge_data = ((triads['120U'])[i]).edges(data = True)\n",
    "                triangle_balance_120U = balance_for_2_semicycles(edge_data)\n",
    "                \n",
    "                sum_balance_120U += triangle_balance_120U\n",
    "                \n",
    "            \n",
    "            elif (triad_type == '300'):\n",
    "                edge_data = ((triads['300'])[i]).edges(data = True)\n",
    "                triangle_balance_300 = balance_for_triad_type_300(edge_data)\n",
    "                \n",
    "                sum_balance_300 += triangle_balance_300\n",
    "            \n",
    "    \n",
    "    overall_balance_030T = sum_balance_030T / len(triads['030T'])\n",
    "    overall_balance_120D = sum_balance_120D / len(triads['120D'])\n",
    "    overall_balance_120U = sum_balance_120U / len(triads['120U'])\n",
    "    if len(triads['300']) > 0:\n",
    "        overall_balance_300 = sum_balance_300 / len(triads['300'])\n",
    "    else: \n",
    "        overall_balance_300 = 0\n",
    "    \n",
    "    average_overall_balance = (overall_balance_030T + overall_balance_120D + overall_balance_120U + overall_balance_300) / 4\n",
    "    return average_overall_balance\n",
    "    \n",
    "    "
   ]
  },
  {
   "cell_type": "markdown",
   "metadata": {},
   "source": [
    "# Example Testgraph"
   ]
  },
  {
   "cell_type": "code",
   "execution_count": 5,
   "metadata": {},
   "outputs": [],
   "source": [
    "edgesAfter = pd.read_csv(\"../data/test.csv\")\n",
    "# edgesAfter = pd.read_csv(\"../data/votes_to_comments_after.csv\")"
   ]
  },
  {
   "cell_type": "code",
   "execution_count": 6,
   "metadata": {},
   "outputs": [],
   "source": [
    "G = nx.from_pandas_edgelist(edgesAfter, \n",
    "                            source='source', \n",
    "                            target='target', \n",
    "                            edge_attr = 'weight',\n",
    "                            create_using=nx.DiGraph())"
   ]
  },
  {
   "cell_type": "code",
   "execution_count": null,
   "metadata": {},
   "outputs": [],
   "source": [
    "fig = plt.figure(figsize=(50,50))\n",
    "nx.draw_spring(G)\n",
    "plt.show()"
   ]
  },
  {
   "cell_type": "code",
   "execution_count": 8,
   "metadata": {},
   "outputs": [
    {
     "data": {
      "text/plain": [
       "{'003': 6,\n",
       " '012': 17,\n",
       " '102': 11,\n",
       " '021D': 1,\n",
       " '021U': 1,\n",
       " '021C': 2,\n",
       " '111D': 9,\n",
       " '111U': 2,\n",
       " '030T': 2,\n",
       " '030C': 0,\n",
       " '201': 1,\n",
       " '120D': 2,\n",
       " '120U': 1,\n",
       " '120C': 0,\n",
       " '210': 0,\n",
       " '300': 1}"
      ]
     },
     "execution_count": 8,
     "metadata": {},
     "output_type": "execute_result"
    }
   ],
   "source": [
    "x = nx.triadic_census(G)\n",
    "x"
   ]
  },
  {
   "cell_type": "code",
   "execution_count": 9,
   "metadata": {},
   "outputs": [
    {
     "data": {
      "text/plain": [
       "0.8125"
      ]
     },
     "execution_count": 9,
     "metadata": {},
     "output_type": "execute_result"
    }
   ],
   "source": [
    "balance_ratio(G)"
   ]
  },
  {
   "cell_type": "markdown",
   "metadata": {},
   "source": [
    "# Full Dataset runs"
   ]
  },
  {
   "cell_type": "code",
   "execution_count": null,
   "metadata": {},
   "outputs": [],
   "source": [
    "# ## quickstart\n",
    "# import numpy as np\n",
    "# from networkx import nx\n",
    "\n",
    "# import pandas as pd\n",
    "# import datetime\n",
    "# import matplotlib.pyplot as plt\n",
    "# from numpy.linalg import matrix_power\n",
    "\n",
    "# edgesBefore = pd.read_csv(\"../data/edges_before.csv\")\n",
    "# edgesAfter = pd.read_csv(\"../data/edges_after.csv\")"
   ]
  },
  {
   "cell_type": "code",
   "execution_count": 35,
   "metadata": {},
   "outputs": [],
   "source": [
    "edgesBefore = pd.read_csv(\"../data/edges_before.csv\")\n",
    "edgesAfter = pd.read_csv(\"../data/edges_after.csv\")\n",
    "\n",
    "G = nx.from_pandas_edgelist(edgesAfter, \n",
    "                            source='source', \n",
    "                            target='target', \n",
    "                            edge_attr = 'weight',\n",
    "                            create_using=nx.DiGraph())"
   ]
  },
  {
   "cell_type": "code",
   "execution_count": 50,
   "metadata": {},
   "outputs": [
    {
     "name": "stdout",
     "output_type": "stream",
     "text": [
      "14830 9861\n"
     ]
    }
   ],
   "source": [
    "# read before\n",
    "A3di_before_df = pd.read_csv(\"../dicts/A3di_before.csv\", index_col=0)\n",
    "A3di_b = A3di_before_df['0'].to_dict()\n",
    "# read after\n",
    "A3di_after_df = pd.read_csv(\"../dicts/A3di_after.csv\", index_col=0)\n",
    "A3di = A3di_after_df['0'].to_dict()\n",
    "print(len(A3di.keys()), len(A3di_b.keys()))"
   ]
  },
  {
   "cell_type": "code",
   "execution_count": 37,
   "metadata": {},
   "outputs": [],
   "source": [
    "## possibly filter for value > k\n",
    "A3di_mini = {k:v for k,v in A3di.items() if v > 6}\n",
    "len(A3di_mini)\n",
    "Gmini = G.subgraph(A3di_mini.keys()).copy()"
   ]
  },
  {
   "cell_type": "code",
   "execution_count": 38,
   "metadata": {},
   "outputs": [
    {
     "data": {
      "text/plain": [
       "{'003': 3855511,\n",
       " '012': 40306,\n",
       " '102': 1767,\n",
       " '021D': 233,\n",
       " '021U': 561,\n",
       " '021C': 272,\n",
       " '111D': 154,\n",
       " '111U': 32,\n",
       " '030T': 28,\n",
       " '030C': 0,\n",
       " '201': 9,\n",
       " '120D': 14,\n",
       " '120U': 4,\n",
       " '120C': 2,\n",
       " '210': 2,\n",
       " '300': 0}"
      ]
     },
     "execution_count": 38,
     "metadata": {},
     "output_type": "execute_result"
    }
   ],
   "source": [
    "nx.triadic_census(Gmini)"
   ]
  },
  {
   "cell_type": "code",
   "execution_count": 39,
   "metadata": {},
   "outputs": [],
   "source": [
    "balance_after = balance_ratio(Gmini)"
   ]
  },
  {
   "cell_type": "code",
   "execution_count": 40,
   "metadata": {},
   "outputs": [
    {
     "data": {
      "text/plain": [
       "0.6160714285714286"
      ]
     },
     "execution_count": 40,
     "metadata": {},
     "output_type": "execute_result"
    }
   ],
   "source": [
    "balance_after"
   ]
  },
  {
   "cell_type": "code",
   "execution_count": 57,
   "metadata": {},
   "outputs": [],
   "source": [
    "G_b = nx.from_pandas_edgelist(edgesBefore, \n",
    "                            source='source', \n",
    "                            target='target', \n",
    "                            edge_attr = 'weight',\n",
    "                            create_using=nx.DiGraph())"
   ]
  },
  {
   "cell_type": "code",
   "execution_count": 58,
   "metadata": {},
   "outputs": [],
   "source": [
    "A3di_b_mini = {k:v for k,v in A3di_b.items() if v > 0}\n",
    "len(A3di_b_mini)\n",
    "G_b_mini = G_b.subgraph(A3di_b_mini.keys()).copy()"
   ]
  },
  {
   "cell_type": "code",
   "execution_count": 60,
   "metadata": {},
   "outputs": [
    {
     "data": {
      "text/plain": [
       "{'003': 420984678918,\n",
       " '012': 3527219586,\n",
       " '102': 66810340,\n",
       " '021D': 18163006,\n",
       " '021U': 16312507,\n",
       " '021C': 12070855,\n",
       " '111D': 1366147,\n",
       " '111U': 1403301,\n",
       " '030T': 1062956,\n",
       " '030C': 28674,\n",
       " '201': 65203,\n",
       " '120D': 76222,\n",
       " '120U': 89748,\n",
       " '120C': 42411,\n",
       " '210': 20469,\n",
       " '300': 1766}"
      ]
     },
     "execution_count": 60,
     "metadata": {},
     "output_type": "execute_result"
    }
   ],
   "source": [
    "nx.triadic_census(G_b_mini)"
   ]
  },
  {
   "cell_type": "code",
   "execution_count": null,
   "metadata": {},
   "outputs": [],
   "source": []
  }
 ],
 "metadata": {
  "kernelspec": {
   "display_name": "Python 3",
   "language": "python",
   "name": "python3"
  },
  "language_info": {
   "codemirror_mode": {
    "name": "ipython",
    "version": 3
   },
   "file_extension": ".py",
   "mimetype": "text/x-python",
   "name": "python",
   "nbconvert_exporter": "python",
   "pygments_lexer": "ipython3",
   "version": "3.7.6"
  },
  "toc-autonumbering": false,
  "toc-showcode": true,
  "toc-showmarkdowntxt": false,
  "toc-showtags": false
 },
 "nbformat": 4,
 "nbformat_minor": 4
}
