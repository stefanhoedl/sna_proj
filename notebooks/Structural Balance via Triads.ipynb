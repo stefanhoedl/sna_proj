{
 "cells": [
  {
   "cell_type": "code",
   "execution_count": 166,
   "metadata": {},
   "outputs": [],
   "source": [
    "import numpy as np\n",
    "from networkx import nx\n",
    "from collections import defaultdict\n",
    "\n",
    "import pandas as pd\n",
    "import datetime\n",
    "import matplotlib.pyplot as plt"
   ]
  },
  {
   "cell_type": "code",
   "execution_count": 167,
   "metadata": {},
   "outputs": [],
   "source": [
    "edgesAfter = pd.read_csv(\"../data/test.csv\")\n",
    "# edgesAfter = pd.read_csv(\"../data/votes_to_comments_after.csv\")"
   ]
  },
  {
   "cell_type": "code",
   "execution_count": 168,
   "metadata": {},
   "outputs": [],
   "source": [
    "edges = edgesAfter.head(50)"
   ]
  },
  {
   "cell_type": "code",
   "execution_count": 169,
   "metadata": {},
   "outputs": [],
   "source": [
    "G = nx.from_pandas_edgelist(edges, \n",
    "                            source='source', \n",
    "                            target='target', \n",
    "                            edge_attr = 'weight',\n",
    "                            create_using=nx.DiGraph())"
   ]
  },
  {
   "cell_type": "code",
   "execution_count": null,
   "metadata": {},
   "outputs": [],
   "source": [
    "fig = plt.figure(figsize=(50,50))\n",
    "nx.draw_spring(G)\n",
    "plt.show()"
   ]
  },
  {
   "cell_type": "code",
   "execution_count": 170,
   "metadata": {},
   "outputs": [
    {
     "data": {
      "text/plain": [
       "{'003': 1,\n",
       " '012': 3,\n",
       " '102': 3,\n",
       " '021D': 0,\n",
       " '021U': 1,\n",
       " '021C': 0,\n",
       " '111D': 7,\n",
       " '111U': 1,\n",
       " '030T': 1,\n",
       " '030C': 0,\n",
       " '201': 0,\n",
       " '120D': 1,\n",
       " '120U': 1,\n",
       " '120C': 0,\n",
       " '210': 0,\n",
       " '300': 1}"
      ]
     },
     "execution_count": 170,
     "metadata": {},
     "output_type": "execute_result"
    }
   ],
   "source": [
    "x = nx.triadic_census(G)\n",
    "x"
   ]
  },
  {
   "cell_type": "code",
   "execution_count": 90,
   "metadata": {},
   "outputs": [],
   "source": [
    "def triads_by_specific_types(G, my_types):\n",
    "    \"\"\"Returns a list of triads of pre-defined types in a directed graph.\n",
    "    Parameters\n",
    "    ----------\n",
    "    G : digraph\n",
    "       A NetworkX DiGraph\n",
    "    Returns\n",
    "    -------\n",
    "    tri_by_type : dict\n",
    "       Dictionary with triad types as keys and lists of triads as values.\n",
    "    \"\"\"\n",
    "    all_tri = nx.all_triads(G)\n",
    "    tri_by_type = defaultdict(list)\n",
    "    for triad in all_tri:\n",
    "        if (nx.triad_type(triad) in my_types):\n",
    "            name = nx.triad_type(triad)\n",
    "            tri_by_type[name].append(triad)\n",
    "    return tri_by_type"
   ]
  },
  {
   "cell_type": "code",
   "execution_count": 91,
   "metadata": {},
   "outputs": [
    {
     "data": {
      "text/plain": [
       "[<networkx.classes.digraph.DiGraph at 0x2d683029148>,\n",
       " <networkx.classes.digraph.DiGraph at 0x2d6830291c8>,\n",
       " <networkx.classes.digraph.DiGraph at 0x2d683029208>,\n",
       " <networkx.classes.digraph.DiGraph at 0x2d683029248>,\n",
       " <networkx.classes.digraph.DiGraph at 0x2d683029288>]"
      ]
     },
     "execution_count": 91,
     "metadata": {},
     "output_type": "execute_result"
    }
   ],
   "source": [
    "test = triads_by_specific_types(G, my_types = {'030T', '120D', '120U', '300', '021D'})\n",
    "(test['021D'])[:5]"
   ]
  },
  {
   "cell_type": "code",
   "execution_count": 93,
   "metadata": {},
   "outputs": [
    {
     "data": {
      "text/plain": [
       "91"
      ]
     },
     "execution_count": 93,
     "metadata": {},
     "output_type": "execute_result"
    }
   ],
   "source": [
    "len(test['021D'])"
   ]
  },
  {
   "cell_type": "code",
   "execution_count": 171,
   "metadata": {},
   "outputs": [],
   "source": [
    "def balance_ratio(graph):\n",
    "    my_types = {'030T', '120D', '120U', '300'}\n",
    "    triads = triads_by_specific_types(graph, my_types)\n",
    "    \n",
    "#    for type in my_types:\n",
    "#        for i in range(len(triads[type])):\n",
    "            \n",
    "    \n",
    "    \n",
    "    return triads\n",
    "    \n",
    "    "
   ]
  },
  {
   "cell_type": "code",
   "execution_count": 172,
   "metadata": {},
   "outputs": [
    {
     "data": {
      "text/plain": [
       "defaultdict(list,\n",
       "            {'030T': [<networkx.classes.digraph.DiGraph at 0x2d683483308>],\n",
       "             '120U': [<networkx.classes.digraph.DiGraph at 0x2d6834833c8>],\n",
       "             '120D': [<networkx.classes.digraph.DiGraph at 0x2d6834832c8>],\n",
       "             '300': [<networkx.classes.digraph.DiGraph at 0x2d6834834c8>]})"
      ]
     },
     "execution_count": 172,
     "metadata": {},
     "output_type": "execute_result"
    }
   ],
   "source": [
    "balance_ratio(G)"
   ]
  },
  {
   "cell_type": "code",
   "execution_count": 182,
   "metadata": {},
   "outputs": [
    {
     "data": {
      "text/plain": [
       "OutEdgeDataView([(2, 5, {'weight': 1}), (4, 2, {'weight': 1}), (4, 5, {'weight': 1}), (5, 2, {'weight': 1})])"
      ]
     },
     "execution_count": 182,
     "metadata": {},
     "output_type": "execute_result"
    }
   ],
   "source": [
    "y = nx.triads_by_type(G)\n",
    "blubb = (y['120D'])[0].edges(data = True)\n",
    "blubb"
   ]
  },
  {
   "cell_type": "code",
   "execution_count": 183,
   "metadata": {},
   "outputs": [
    {
     "data": {
      "text/plain": [
       "1"
      ]
     },
     "execution_count": 183,
     "metadata": {},
     "output_type": "execute_result"
    }
   ],
   "source": [
    "((y['120D'])[0].get_edge_data(2, 5))['weight']"
   ]
  },
  {
   "cell_type": "code",
   "execution_count": 184,
   "metadata": {},
   "outputs": [
    {
     "name": "stdout",
     "output_type": "stream",
     "text": [
      "1\n",
      "1\n",
      "1\n",
      "1\n"
     ]
    }
   ],
   "source": [
    "for i in blubb:\n",
    "    print((i[2])['weight'])"
   ]
  },
  {
   "cell_type": "code",
   "execution_count": null,
   "metadata": {},
   "outputs": [],
   "source": []
  }
 ],
 "metadata": {
  "kernelspec": {
   "display_name": "Python 3",
   "language": "python",
   "name": "python3"
  },
  "language_info": {
   "codemirror_mode": {
    "name": "ipython",
    "version": 3
   },
   "file_extension": ".py",
   "mimetype": "text/x-python",
   "name": "python",
   "nbconvert_exporter": "python",
   "pygments_lexer": "ipython3",
   "version": "3.7.9"
  }
 },
 "nbformat": 4,
 "nbformat_minor": 4
}
