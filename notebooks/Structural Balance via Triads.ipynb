{
 "cells": [
  {
   "cell_type": "code",
   "execution_count": null,
   "metadata": {},
   "outputs": [],
   "source": [
    "import numpy as np\n",
    "from networkx import nx\n",
    "from collections import defaultdict\n",
    "\n",
    "import pandas as pd\n",
    "import datetime\n",
    "import matplotlib.pyplot as plt"
   ]
  },
  {
   "cell_type": "code",
   "execution_count": null,
   "metadata": {},
   "outputs": [],
   "source": [
    "edgesAfter = pd.read_csv(\"../data/test.csv\")\n",
    "# edgesAfter = pd.read_csv(\"../data/votes_to_comments_after.csv\")"
   ]
  },
  {
   "cell_type": "code",
   "execution_count": null,
   "metadata": {},
   "outputs": [],
   "source": [
    "edges = edgesAfter.head(50)"
   ]
  },
  {
   "cell_type": "code",
   "execution_count": null,
   "metadata": {},
   "outputs": [],
   "source": [
    "G = nx.from_pandas_edgelist(edges, \n",
    "                            source='source', \n",
    "                            target='target', \n",
    "                            edge_attr = 'weight',\n",
    "                            create_using=nx.DiGraph())"
   ]
  },
  {
   "cell_type": "code",
   "execution_count": null,
   "metadata": {},
   "outputs": [],
   "source": [
    "fig = plt.figure(figsize=(50,50))\n",
    "nx.draw_spring(G)\n",
    "plt.show()"
   ]
  },
  {
   "cell_type": "code",
   "execution_count": null,
   "metadata": {},
   "outputs": [],
   "source": [
    "x = nx.triadic_census(G)\n",
    "x"
   ]
  },
  {
   "cell_type": "code",
   "execution_count": null,
   "metadata": {},
   "outputs": [],
   "source": [
    "def triads_by_specific_types(G, my_types):\n",
    "    \"\"\"Returns a list of triads of pre-defined types in a directed graph.\n",
    "    Parameters\n",
    "    ----------\n",
    "    G : digraph\n",
    "       A NetworkX DiGraph\n",
    "    Returns\n",
    "    -------\n",
    "    tri_by_type : dict\n",
    "       Dictionary with triad types as keys and lists of triads as values.\n",
    "    \"\"\"\n",
    "    all_tri = nx.all_triads(G)\n",
    "    tri_by_type = defaultdict(list)\n",
    "    for triad in all_tri:\n",
    "        if (nx.triad_type(triad) in my_types):\n",
    "            name = nx.triad_type(triad)\n",
    "            tri_by_type[name].append(triad)\n",
    "    return tri_by_type"
   ]
  },
  {
   "cell_type": "code",
   "execution_count": null,
   "metadata": {},
   "outputs": [],
   "source": [
    "#test = triads_by_specific_types(G, my_types = {'030T', '120D', '120U', '300', '021D'})\n",
    "#(test['021D'])[:5]"
   ]
  },
  {
   "cell_type": "code",
   "execution_count": null,
   "metadata": {},
   "outputs": [],
   "source": [
    "def balance_ratio(graph):\n",
    "    my_types = {'030T', '120D', '120U', '300'}\n",
    "    triads = triads_by_specific_types(graph, my_types)\n",
    "    \n",
    "    sum_balance_030T = 0\n",
    "    sum_balance_120D = 0\n",
    "    sum_balance_120U = 0\n",
    "    sum_balance_300 = 0\n",
    "    \n",
    "    for triad_type in my_types:\n",
    "        for i in range(len(triads[triad_type])):\n",
    "            \n",
    "            if (triad_type == '030T'):\n",
    "                edge_data = ((triads['030T'])[i]).edges(data = True)\n",
    "                semicycle_balance_030T = 1\n",
    "                for edge in edge_data:\n",
    "                    semicycle_balance_030T *= (edge[2])['weight']\n",
    "                if (semicycle_balance_030T > 0):\n",
    "                    sum_balance_030T += 1                   \n",
    "                else:\n",
    "                    sum_balance_030T += 0\n",
    "                \n",
    "                \n",
    "            elif (triad_type == '120D'):\n",
    "                edge_data = ((triads['120D'])[i]).edges(data = True)\n",
    "                triangle_balance_120D = balance_for_2_semicycles(edge_data)\n",
    "                \n",
    "                sum_balance_120D += triangle_balance_120D\n",
    "                \n",
    "            elif (triad_type == '120U'):\n",
    "                edge_data = ((triads['120U'])[i]).edges(data = True)\n",
    "                triangle_balance_120U = balance_for_2_semicycles(edge_data)\n",
    "                \n",
    "                sum_balance_120U += triangle_balance_120U\n",
    "                \n",
    "            \n",
    "            #elif (triad_type == '300'):\n",
    "                #balance_300 =\n",
    "            \n",
    "    \n",
    "    overall_balance_030T = sum_balance_030T / len(triads['030T'])\n",
    "    overall_balance_120D = sum_balance_120D / len(triads['120D'])\n",
    "    overall_balance_120U = sum_balance_120U / len(triads['120U'])\n",
    "    overall_balance_300 = sum_balance_300 / len(triads['300'])\n",
    "    \n",
    "    average_overall_balance = (overall_balance_030T + overall_balance_120D + overall_balance_120U + overall_balance_300) / 4\n",
    "    return average_overall_balance\n",
    "    \n",
    "    "
   ]
  },
  {
   "cell_type": "code",
   "execution_count": null,
   "metadata": {},
   "outputs": [],
   "source": [
    "triades = triads_by_specific_types(G, {'030T', '120D', '120U', '300'})\n",
    "test_120D = ((triades['120D'])[1]).edges(data = True)\n",
    "test_120D\n"
   ]
  },
  {
   "cell_type": "code",
   "execution_count": null,
   "metadata": {},
   "outputs": [],
   "source": [
    "def balance_for_2_semicycles(triad_edge_data):\n",
    "    semicycle_balance = 1\n",
    "    x, y = find_double_edge(triad_edge_data)\n",
    "    positive_set = []\n",
    "    negative_set = []\n",
    "    \n",
    "    # calculating balance/imbalance for both semicycles\n",
    "    for edge in triad_edge_data:\n",
    "        semicycle_balance *= (edge[2])['weight']\n",
    "        \n",
    "    for edge in triad_edge_data:\n",
    "        if ((x == edge[0]) and (y == edge[1])):\n",
    "            semicycle_balance_1 = semicycle_balance / ((edge[2])['weight'])\n",
    "        if ((x == edge[1]) and (y == edge[0])):\n",
    "            semicycle_balance_2 = semicycle_balance / ((edge[2])['weight'])\n",
    "            \n",
    "    # checking for both semicycles if balanced or imbalanced   \n",
    "    if (semicycle_balance_1 > 0):\n",
    "        positive_set.append(semicycle_balance_1)\n",
    "    else:\n",
    "        negative_set.append(semicycle_balance_1)\n",
    "            \n",
    "    if (semicycle_balance_2 > 0):\n",
    "        positive_set.append(semicycle_balance_2)\n",
    "    else:\n",
    "        negative_set.append(semicycle_balance_2)\n",
    "            \n",
    "    triangle_balance = len(positive_set)/(len(positive_set) + len(negative_set))   # step 8 in algorithm             \n",
    "    return triangle_balance\n",
    "        \n",
    "\n",
    "    "
   ]
  },
  {
   "cell_type": "code",
   "execution_count": null,
   "metadata": {},
   "outputs": [],
   "source": [
    "def find_double_edge(triad_edge_data):\n",
    "    for i in triad_edge_data:\n",
    "        for j in triad_edge_data:\n",
    "            if (i[0]==j[1] and i[1]==j[0]):\n",
    "                x = i[0]\n",
    "                y = i[1]\n",
    "    return x,y"
   ]
  },
  {
   "cell_type": "code",
   "execution_count": null,
   "metadata": {},
   "outputs": [],
   "source": [
    "x,y = find_double_edge(test_120D)\n",
    "x, y"
   ]
  },
  {
   "cell_type": "code",
   "execution_count": null,
   "metadata": {},
   "outputs": [],
   "source": [
    "balance_for_2_semicycles(test_120D)"
   ]
  },
  {
   "cell_type": "code",
   "execution_count": null,
   "metadata": {},
   "outputs": [],
   "source": [
    "y = nx.triads_by_type(G)\n",
    "blubb = (y['120D'])[0].edges(data = True)\n",
    "blubb"
   ]
  },
  {
   "cell_type": "code",
   "execution_count": null,
   "metadata": {},
   "outputs": [],
   "source": [
    "((y['120D'])[0].get_edge_data(2, 5))['weight']"
   ]
  },
  {
   "cell_type": "code",
   "execution_count": null,
   "metadata": {},
   "outputs": [],
   "source": [
    "balance_ratio(G)"
   ]
  },
  {
   "cell_type": "code",
   "execution_count": null,
   "metadata": {},
   "outputs": [],
   "source": []
  }
 ],
 "metadata": {
  "kernelspec": {
   "display_name": "Python 3",
   "language": "python",
   "name": "python3"
  },
  "language_info": {
   "codemirror_mode": {
    "name": "ipython",
    "version": 3
   },
   "file_extension": ".py",
   "mimetype": "text/x-python",
   "name": "python",
   "nbconvert_exporter": "python",
   "pygments_lexer": "ipython3",
   "version": "3.7.9"
  }
 },
 "nbformat": 4,
 "nbformat_minor": 4
}
