{
 "cells": [
  {
   "cell_type": "markdown",
   "metadata": {},
   "source": [
    "# CuGraph Playground"
   ]
  },
  {
   "cell_type": "code",
   "execution_count": 3,
   "metadata": {},
   "outputs": [],
   "source": [
    "import numpy as np\n",
    "from networkx import nx\n",
    "\n",
    "import pandas as pd\n",
    "import datetime\n",
    "import matplotlib.pyplot as plt\n",
    "\n",
    "### CUDA RAPIDS\n",
    "import cugraph as cnx\n",
    "import cudf\n",
    "import cupy as cp"
   ]
  },
  {
   "cell_type": "code",
   "execution_count": 5,
   "metadata": {},
   "outputs": [],
   "source": [
    "## or pd.read_csv\n",
    "edgesBefore = cudf.read_csv(\"../data/votes_to_comments_before.csv\")\n",
    "edgesAfter = cudf.read_csv(\"../data/votes_to_comments_after.csv\")\n",
    "\n",
    "## with cuda (cnx)\n",
    "G = cnx.DiGraph()\n",
    "G = cnx.from_cudf_edgelist(edgesAfter, \n",
    "                            source ='source', \n",
    "                            destination ='target',\n",
    "                            edge_attr = 'weight')\n",
    "\n"
   ]
  },
  {
   "cell_type": "markdown",
   "metadata": {},
   "source": [
    "## ECG"
   ]
  },
  {
   "cell_type": "code",
   "execution_count": 21,
   "metadata": {},
   "outputs": [],
   "source": [
    "#cnx.community.ecg(G).groupby('partition').sum()"
   ]
  },
  {
   "cell_type": "markdown",
   "metadata": {},
   "source": [
    "## Shortest path"
   ]
  },
  {
   "cell_type": "code",
   "execution_count": 55,
   "metadata": {},
   "outputs": [
    {
     "data": {
      "text/plain": [
       "3.4377457059091787"
      ]
     },
     "execution_count": 55,
     "metadata": {},
     "output_type": "execute_result"
    }
   ],
   "source": [
    "#{n:(cnx.traversal.shortest_path(G, n).distance.mean()) for n in G.nodes() }\n",
    "cnx.traversal.shortest_path(G, 77).distance.mean()"
   ]
  },
  {
   "cell_type": "code",
   "execution_count": null,
   "metadata": {},
   "outputs": [],
   "source": [
    "#[i for i in G.nodes]\n",
    "#G.nodes"
   ]
  },
  {
   "cell_type": "markdown",
   "metadata": {},
   "source": [
    "## Force Atlas"
   ]
  },
  {
   "cell_type": "code",
   "execution_count": 16,
   "metadata": {},
   "outputs": [],
   "source": [
    "fa2 = cnx.layout.force_atlas2(G, max_iter=50)"
   ]
  },
  {
   "cell_type": "code",
   "execution_count": 53,
   "metadata": {},
   "outputs": [
    {
     "data": {
      "text/html": [
       "<div>\n",
       "<style scoped>\n",
       "    .dataframe tbody tr th:only-of-type {\n",
       "        vertical-align: middle;\n",
       "    }\n",
       "\n",
       "    .dataframe tbody tr th {\n",
       "        vertical-align: top;\n",
       "    }\n",
       "\n",
       "    .dataframe thead th {\n",
       "        text-align: right;\n",
       "    }\n",
       "</style>\n",
       "<table border=\"1\" class=\"dataframe\">\n",
       "  <thead>\n",
       "    <tr style=\"text-align: right;\">\n",
       "      <th></th>\n",
       "      <th>x</th>\n",
       "      <th>y</th>\n",
       "      <th>vertex</th>\n",
       "    </tr>\n",
       "  </thead>\n",
       "  <tbody>\n",
       "    <tr>\n",
       "      <th>0</th>\n",
       "      <td>-925.263733</td>\n",
       "      <td>-184.095505</td>\n",
       "      <td>692757</td>\n",
       "    </tr>\n",
       "    <tr>\n",
       "      <th>1</th>\n",
       "      <td>-1231.351318</td>\n",
       "      <td>69.359978</td>\n",
       "      <td>693709</td>\n",
       "    </tr>\n",
       "    <tr>\n",
       "      <th>2</th>\n",
       "      <td>-2247.436768</td>\n",
       "      <td>-1978.534302</td>\n",
       "      <td>693832</td>\n",
       "    </tr>\n",
       "    <tr>\n",
       "      <th>3</th>\n",
       "      <td>-615.074219</td>\n",
       "      <td>-255.468079</td>\n",
       "      <td>694029</td>\n",
       "    </tr>\n",
       "    <tr>\n",
       "      <th>4</th>\n",
       "      <td>643.402283</td>\n",
       "      <td>-413.718384</td>\n",
       "      <td>694109</td>\n",
       "    </tr>\n",
       "    <tr>\n",
       "      <th>...</th>\n",
       "      <td>...</td>\n",
       "      <td>...</td>\n",
       "      <td>...</td>\n",
       "    </tr>\n",
       "    <tr>\n",
       "      <th>19306</th>\n",
       "      <td>-1010.392456</td>\n",
       "      <td>1077.878662</td>\n",
       "      <td>505384</td>\n",
       "    </tr>\n",
       "    <tr>\n",
       "      <th>19307</th>\n",
       "      <td>-183.710114</td>\n",
       "      <td>1093.970215</td>\n",
       "      <td>508080</td>\n",
       "    </tr>\n",
       "    <tr>\n",
       "      <th>19308</th>\n",
       "      <td>1075.476685</td>\n",
       "      <td>567.456787</td>\n",
       "      <td>511143</td>\n",
       "    </tr>\n",
       "    <tr>\n",
       "      <th>19309</th>\n",
       "      <td>279.200806</td>\n",
       "      <td>-1043.545288</td>\n",
       "      <td>511886</td>\n",
       "    </tr>\n",
       "    <tr>\n",
       "      <th>19310</th>\n",
       "      <td>-685.816467</td>\n",
       "      <td>80.720963</td>\n",
       "      <td>518698</td>\n",
       "    </tr>\n",
       "  </tbody>\n",
       "</table>\n",
       "<p>19311 rows × 3 columns</p>\n",
       "</div>"
      ],
      "text/plain": [
       "                 x            y  vertex\n",
       "0      -925.263733  -184.095505  692757\n",
       "1     -1231.351318    69.359978  693709\n",
       "2     -2247.436768 -1978.534302  693832\n",
       "3      -615.074219  -255.468079  694029\n",
       "4       643.402283  -413.718384  694109\n",
       "...            ...          ...     ...\n",
       "19306 -1010.392456  1077.878662  505384\n",
       "19307  -183.710114  1093.970215  508080\n",
       "19308  1075.476685   567.456787  511143\n",
       "19309   279.200806 -1043.545288  511886\n",
       "19310  -685.816467    80.720963  518698\n",
       "\n",
       "[19311 rows x 3 columns]"
      ]
     },
     "execution_count": 53,
     "metadata": {},
     "output_type": "execute_result"
    }
   ],
   "source": [
    "fa2"
   ]
  },
  {
   "cell_type": "code",
   "execution_count": null,
   "metadata": {},
   "outputs": [],
   "source": [
    "nx.draw_networkx_nodes(fa2)"
   ]
  },
  {
   "cell_type": "code",
   "execution_count": null,
   "metadata": {},
   "outputs": [],
   "source": [
    "import matplotlib.pyplot as plt\n",
    "#positions = forceatlas2.forceatlas2_networkx_layout(G, pos=None, iterations=2000)\n",
    "nx.draw_networkx_nodes(G, fa2, node_size=20, node_color=\"blue\", alpha=0.4)\n",
    "nx.draw_networkx_edges(G, fa2, edge_color=\"green\", alpha=0.05)\n",
    "plt.axis('off')\n",
    "plt.show()"
   ]
  },
  {
   "cell_type": "code",
   "execution_count": null,
   "metadata": {},
   "outputs": [],
   "source": []
  }
 ],
 "metadata": {
  "kernelspec": {
   "display_name": "Python 3",
   "language": "python",
   "name": "python3"
  },
  "language_info": {
   "codemirror_mode": {
    "name": "ipython",
    "version": 3
   },
   "file_extension": ".py",
   "mimetype": "text/x-python",
   "name": "python",
   "nbconvert_exporter": "python",
   "pygments_lexer": "ipython3",
   "version": "3.8.6"
  }
 },
 "nbformat": 4,
 "nbformat_minor": 4
}
